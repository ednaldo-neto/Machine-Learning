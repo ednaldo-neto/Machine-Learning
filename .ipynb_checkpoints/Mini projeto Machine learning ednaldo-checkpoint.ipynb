{
 "cells": [
  {
   "cell_type": "markdown",
   "id": "498f45b3",
   "metadata": {},
   "source": [
    "# 3. Descrição das atividades \n",
    "Implementar três classificadores de dígitos contidos no dataset MNIST, utilizando os três \n",
    "modelos lineares de Aprendizagem de Máquina (AM) estudados: Perceptron, Regressão \n",
    "Linear e Regressão Logística. Detalhes da implementação estão descritas a seguir."
   ]
  },
  {
   "cell_type": "markdown",
   "id": "f14241a4",
   "metadata": {},
   "source": [
    "## 3.1. Redução da dimensão das amostras \n"
   ]
  },
  {
   "cell_type": "code",
   "execution_count": 1,
   "id": "a7c879e4",
   "metadata": {},
   "outputs": [],
   "source": [
    "import pandas as pd\n",
    "import numpy as np\n",
    "import matplotlib.pyplot as plt\n",
    "from matplotlib.colors import ListedColormap\n",
    "from sklearn.linear_model import Perceptron\n",
    "from sklearn.linear_model import LogisticRegression\n",
    "from sklearn.linear_model import LinearRegression\n",
    "from sklearn.multiclass import OneVsRestClassifier\n",
    "from sklearn.metrics import confusion_matrix\n",
    "import sklearn\n",
    "import random"
   ]
  },
  {
   "cell_type": "code",
   "execution_count": 2,
   "id": "ef2b2000",
   "metadata": {},
   "outputs": [],
   "source": [
    "def read_instance(filepath):\n",
    "    data = pd.read_csv(filepath)\n",
    "    return(data)"
   ]
  },
  {
   "cell_type": "markdown",
   "id": "67550282",
   "metadata": {},
   "source": [
    "### Intensidade"
   ]
  },
  {
   "cell_type": "code",
   "execution_count": 3,
   "id": "e304d3af",
   "metadata": {},
   "outputs": [],
   "source": [
    "def intensidade(data):\n",
    "    intensidade = []\n",
    "    data = np.array(data)\n",
    "    for i in range(len(data)):\n",
    "        intensidade.append(sum(data[i])/255)#somatorio da linha divido por 255\n",
    "    return intensidade"
   ]
  },
  {
   "cell_type": "markdown",
   "id": "df05150a",
   "metadata": {},
   "source": [
    "### Simetria"
   ]
  },
  {
   "cell_type": "code",
   "execution_count": 4,
   "id": "5bdf1914",
   "metadata": {},
   "outputs": [],
   "source": [
    "#mudança pra velocidade foi apenas fazer com np array\n",
    "def simetria(data):\n",
    "    list_simetria = []\n",
    "    data = np.array(data)\n",
    "    for k in range(len(data)):#pular linha\n",
    "        soma_line_horizontal = 0\n",
    "        soma_line_vertical = 0\n",
    "        tamanho = len(data[k])\n",
    "        \n",
    "        for i in range(28):#vertical\n",
    "            for j in range(14):#entre pixels das metades  \n",
    "                img_inicial = data[k][28*i+j]\n",
    "                img_final = data[k][28*i+(27-j)]\n",
    "                soma_line_vertical += abs(img_inicial - img_final)\n",
    "        \n",
    "        for i in range(tamanho-1,int(tamanho/2),-1):#horizontal do fim até a metade iterando com -1\n",
    "            img_inicial = data[k][i]\n",
    "            img_final = data[k][abs(i-tamanho)]\n",
    "            soma_line_horizontal += abs(img_inicial - img_final)\n",
    "            \n",
    "        soma = (soma_line_vertical+soma_line_horizontal)/2\n",
    "        list_simetria.append(soma/255)\n",
    "    \n",
    "    return list_simetria"
   ]
  },
  {
   "cell_type": "markdown",
   "id": "5979e731",
   "metadata": {},
   "source": [
    "### Train_redu.csv Teste_redu.csv"
   ]
  },
  {
   "cell_type": "code",
   "execution_count": 5,
   "id": "cb8d8ea9",
   "metadata": {},
   "outputs": [],
   "source": [
    "def reduced(filepath):#reduzir um arquivo usando simetria e intensidade\n",
    "    data =  read_instance(filepath)\n",
    "    label = data['label']\n",
    "    data = data.drop(columns=['Unnamed: 0'])\n",
    "    data = data.drop(columns=['label'])\n",
    "    intensidade_data = intensidade(data)\n",
    "    simetria_data = simetria(data)\n",
    "    redu_data = pd.DataFrame({'Label':label,'intensidade': intensidade_data,'simetria': simetria_data})\n",
    "    return redu_data"
   ]
  },
  {
   "cell_type": "code",
   "execution_count": 15,
   "id": "8c1dd30f",
   "metadata": {},
   "outputs": [],
   "source": [
    "#recebe arquivo csv reduz e tranforma em csv novamente \n",
    "train = reduced(\"train.csv\")\n",
    "train.to_csv(\"train_redu.csv\")\n",
    "test = reduced(\"test.csv\")\n",
    "test.to_csv(\"test_redu.csv\")\n"
   ]
  },
  {
   "cell_type": "code",
   "execution_count": 16,
   "id": "22b5a614",
   "metadata": {},
   "outputs": [],
   "source": [
    "train_redu = read_instance(\"train_redu.csv\")\n",
    "train_redu = train_redu.drop(columns=[\"Unnamed: 0\"])"
   ]
  },
  {
   "cell_type": "code",
   "execution_count": 17,
   "id": "bf141409",
   "metadata": {},
   "outputs": [],
   "source": [
    "test_redu = read_instance(\"test_redu.csv\")\n",
    "test_redu = test_redu.drop(columns=[\"Unnamed: 0\"])"
   ]
  },
  {
   "cell_type": "markdown",
   "id": "2ed6e3de",
   "metadata": {},
   "source": [
    ">Realizar um filtro nos dados dos arquivos train_redu.csv e test_redu.csv, deixando apenas as imagens com valores 1 ou 5 na coluna label, construindo as instâncias  train1x5 e test1x5;"
   ]
  },
  {
   "cell_type": "markdown",
   "id": "607a39a9",
   "metadata": {},
   "source": [
    "## Classificação dos dígitos 1 x 5 "
   ]
  },
  {
   "cell_type": "markdown",
   "id": "aea975ea",
   "metadata": {},
   "source": [
    "### Realizar um filtro 1x5"
   ]
  },
  {
   "cell_type": "code",
   "execution_count": 18,
   "id": "51d76a0e",
   "metadata": {},
   "outputs": [],
   "source": [
    "values = [1,5]"
   ]
  },
  {
   "cell_type": "code",
   "execution_count": 19,
   "id": "3e197560",
   "metadata": {
    "scrolled": true
   },
   "outputs": [],
   "source": [
    "train1x5 = train_redu[train_redu.Label.isin(values)]\n",
    "test1x5 = test_redu[test_redu.Label.isin(values)]"
   ]
  },
  {
   "cell_type": "code",
   "execution_count": 20,
   "id": "5272ea07",
   "metadata": {
    "scrolled": true
   },
   "outputs": [],
   "source": [
    "x_train, y_train = train1x5.drop(columns=['Label']) , train1x5['Label']\n",
    "y_train = y_train.values.reshape(-1,1)\n",
    "x_train = np.column_stack((np.ones((x_train.shape[0],1)),x_train,))"
   ]
  },
  {
   "cell_type": "code",
   "execution_count": 21,
   "id": "eee05fa5",
   "metadata": {},
   "outputs": [],
   "source": [
    "x_test, y_test = test1x5.drop(columns=['Label']), test1x5['Label']\n",
    "y_test = y_test.values.reshape(-1,1)\n",
    "x_test = np.column_stack((np.ones((x_test.shape[0],1)),x_test))"
   ]
  },
  {
   "cell_type": "markdown",
   "id": "ddbc7e5c",
   "metadata": {},
   "source": [
    "### Plotar os dados de train1x5"
   ]
  },
  {
   "cell_type": "code",
   "execution_count": 22,
   "id": "e784ff46",
   "metadata": {},
   "outputs": [],
   "source": [
    "def plot1x5(x,y):\n",
    "    \n",
    "    plt.scatter(x.values[:,1], x.values[:,2], color='red',marker='o',label = 5)\n",
    "    plt.scatter(y.values[:,1], y.values[:,2], color='blue',marker='o',label = 1)\n",
    "    plt.xlabel('intensidade')\n",
    "    plt.ylabel('simetria')\n",
    "    plt.legend(loc='upper left')\n",
    "    plt.show()"
   ]
  },
  {
   "cell_type": "code",
   "execution_count": 23,
   "id": "92516757",
   "metadata": {
    "scrolled": true
   },
   "outputs": [
    {
     "data": {
      "image/png": "[encoded data removed]",
      "text/plain": [
       "<Figure size 432x288 with 1 Axes>"
      ]
     },
     "metadata": {
      "needs_background": "light"
     },
     "output_type": "display_data"
    }
   ],
   "source": [
    "cinco = [5]\n",
    "um = [1]\n",
    "trainx5 = train_redu[train_redu.Label.isin(cinco)]\n",
    "#testx5 = test_redu[test_redu.Label.isin(cinco)]\n",
    "trainx1 = train_redu[train_redu.Label.isin(um)]\n",
    "#testx1 = test_redu[test_redu.Label.isin(um)]\n",
    "plot1x5(trainx5,trainx1)"
   ]
  },
  {
   "cell_type": "markdown",
   "id": "6724ccf2",
   "metadata": {},
   "source": [
    "# Começo da atualização"
   ]
  },
  {
   "cell_type": "markdown",
   "id": "9f616a0f",
   "metadata": {},
   "source": [
    "## Perceptron "
   ]
  },
  {
   "cell_type": "code",
   "execution_count": 25,
   "id": "a0299ef2",
   "metadata": {},
   "outputs": [],
   "source": [
    "class perceptron:\n",
    "    def __init__(self, n_iter):\n",
    "        self.n_iter = n_iter\n",
    "    \n",
    "    def predict(self, x):\n",
    "       \n",
    "        net = np.dot(x, self.w_[1:] + self.w_[0])\n",
    "        return np.where(net>=0.0, 5, 1)\n",
    "\n",
    "    \n",
    "    def fit(self, x, y, x_test, y_test):\n",
    "        self.w_ = np.zeros(1+x.shape[1])\n",
    "        self.errors_ = []\n",
    "    \n",
    "    \n",
    "        \n",
    "        \n",
    "        for _ in range(self.n_iter):\n",
    "            errors = 0\n",
    "            for xi, target in zip(x, y):\n",
    "                update = (target - self.predict(xi))\n",
    "                self.w_[1:] += update * xi\n",
    "                self.w_[0] += update\n",
    "                errors += int(update != 0.0)\n",
    "            self.errors_.append(errors)\n",
    "            \n",
    "    def get_w_(self):\n",
    "        return self.w_\n",
    "    \n",
    "    "
   ]
  },
  {
   "cell_type": "code",
   "execution_count": 26,
   "id": "abaccf7d",
   "metadata": {},
   "outputs": [],
   "source": [
    "ppn = perceptron( n_iter = 10)"
   ]
  },
  {
   "cell_type": "code",
   "execution_count": 27,
   "id": "1bb977cc",
   "metadata": {},
   "outputs": [],
   "source": [
    "ppn.fit(x_train,y_train,x_test,y_test)"
   ]
  },
  {
   "cell_type": "code",
   "execution_count": 28,
   "id": "020feefe",
   "metadata": {},
   "outputs": [
    {
     "ename": "TypeError",
     "evalue": "predict() got an unexpected keyword argument 'best'",
     "output_type": "error",
     "traceback": [
      "\u001b[1;31m---------------------------------------------------------------------------\u001b[0m",
      "\u001b[1;31mTypeError\u001b[0m                                 Traceback (most recent call last)",
      "\u001b[1;32m~\\AppData\\Local\\Temp/ipykernel_9512/967011656.py\u001b[0m in \u001b[0;36m<module>\u001b[1;34m\u001b[0m\n\u001b[1;32m----> 1\u001b[1;33m \u001b[0my_best_pred\u001b[0m \u001b[1;33m=\u001b[0m \u001b[0mppn\u001b[0m\u001b[1;33m.\u001b[0m\u001b[0mpredict\u001b[0m\u001b[1;33m(\u001b[0m\u001b[0mx_test\u001b[0m\u001b[1;33m,\u001b[0m \u001b[0mbest\u001b[0m \u001b[1;33m=\u001b[0m \u001b[1;32mTrue\u001b[0m\u001b[1;33m)\u001b[0m\u001b[1;31m# 7 é o melhor mas ele vai até o 10\u001b[0m\u001b[1;33m\u001b[0m\u001b[1;33m\u001b[0m\u001b[0m\n\u001b[0m",
      "\u001b[1;31mTypeError\u001b[0m: predict() got an unexpected keyword argument 'best'"
     ]
    }
   ],
   "source": [
    "y_best_pred = ppn.predict(x_test, best = True)# 7 é o melhor mas ele vai até o 10"
   ]
  },
  {
   "cell_type": "code",
   "execution_count": null,
   "id": "2b0f3881",
   "metadata": {
    "scrolled": false
   },
   "outputs": [],
   "source": [
    "mc = confusion_matrix(y_test, y_best_pred)\n",
    "print('consufion matrix\\n',mc,'\\n---------------------------------------------------------------')\n",
    "print('classification report\\n',sklearn.metrics.classification_report(y_test,y_best_pred))"
   ]
  },
  {
   "cell_type": "code",
   "execution_count": 66,
   "id": "9f8974e8",
   "metadata": {
    "scrolled": true
   },
   "outputs": [
    {
     "data": {
      "image/png": "[encoded data removed]",
      "text/plain": [
       "<Figure size 432x288 with 1 Axes>"
      ]
     },
     "metadata": {
      "needs_background": "light"
     },
     "output_type": "display_data"
    }
   ],
   "source": [
    "plt.plot(range(1,len(ppn.errors_)+1),ppn.errors_, marker = 'o', color='red')\n",
    "plt.xlabel('Epoca')\n",
    "plt.ylabel('Erro')\n",
    "plt.show()"
   ]
  },
  {
   "cell_type": "code",
   "execution_count": 72,
   "id": "72d19926",
   "metadata": {
    "scrolled": true
   },
   "outputs": [
    {
     "data": {
      "text/plain": [
       "2852"
      ]
     },
     "execution_count": 72,
     "metadata": {},
     "output_type": "execute_result"
    }
   ],
   "source": [
    "len(y_best_pred)"
   ]
  },
  {
   "cell_type": "code",
   "execution_count": 74,
   "id": "535c853f",
   "metadata": {},
   "outputs": [
    {
     "data": {
      "text/plain": [
       "2852"
      ]
     },
     "execution_count": 74,
     "metadata": {},
     "output_type": "execute_result"
    }
   ],
   "source": [
    "len(y_test)"
   ]
  },
  {
   "cell_type": "markdown",
   "id": "70d8c224",
   "metadata": {},
   "source": [
    "## Regressão Linear"
   ]
  },
  {
   "cell_type": "code",
   "execution_count": 21,
   "id": "58fcc292",
   "metadata": {},
   "outputs": [],
   "source": [
    "class LinearRegression_2:#correta\n",
    "    def fit(self, x_train, y_train):\n",
    "        x = np.array(list(map(lambda i: [1, i[1], i[2]], x_train)))\n",
    "\n",
    "\n",
    "        x =  np.array(x)\n",
    "        y =  np.array(y_train)\n",
    "        xTx = np.dot(x.transpose(), x)\n",
    "        inverse = np.linalg.inv(xTx)\n",
    "        self.w = np.dot(np.dot( inverse, x.transpose()), y)\n",
    "\n",
    "    def predict(self, x_test):\n",
    "\n",
    "        x = np.array(list(map(lambda i: [1, i[1], i[2]], x_test)))\n",
    "\n",
    "        return np.sign([np.dot(xn,self.w) for xn in x])\n",
    "\n",
    "    def get_w(self):\n",
    "        return self.w"
   ]
  },
  {
   "cell_type": "code",
   "execution_count": 22,
   "id": "a9e885f8",
   "metadata": {},
   "outputs": [],
   "source": [
    "def value_changer(y_train):\n",
    "    new_y_train = np.where(y_train == 1,1,-1)\n",
    "    return new_y_train.reshape(-1,1)"
   ]
  },
  {
   "cell_type": "code",
   "execution_count": 23,
   "id": "cbfc4f3b",
   "metadata": {},
   "outputs": [],
   "source": [
    "new_y_train = value_changer(y_train)# trocando os numeros por menos -1 e 1\n",
    "lr = LinearRegression_2()"
   ]
  },
  {
   "cell_type": "code",
   "execution_count": 24,
   "id": "a27061ce",
   "metadata": {
    "scrolled": true
   },
   "outputs": [],
   "source": [
    "lr.fit(x_train,new_y_train)\n",
    "y_pred_lr = lr.predict(x_test)"
   ]
  },
  {
   "cell_type": "code",
   "execution_count": 25,
   "id": "4c93116b",
   "metadata": {
    "scrolled": true
   },
   "outputs": [
    {
     "data": {
      "text/plain": [
       "array([[1155,  169],\n",
       "       [  92, 1436]], dtype=int64)"
      ]
     },
     "metadata": {},
     "output_type": "display_data"
    }
   ],
   "source": [
    "mc = confusion_matrix(value_changer(y_test), y_pred_lr.ravel())\n",
    "display(mc)"
   ]
  },
  {
   "cell_type": "code",
   "execution_count": 26,
   "id": "148f0e1f",
   "metadata": {
    "scrolled": true
   },
   "outputs": [
    {
     "name": "stdout",
     "output_type": "stream",
     "text": [
      "              precision    recall  f1-score   support\n",
      "\n",
      "          -1       0.93      0.87      0.90      1324\n",
      "           1       0.89      0.94      0.92      1528\n",
      "\n",
      "    accuracy                           0.91      2852\n",
      "   macro avg       0.91      0.91      0.91      2852\n",
      "weighted avg       0.91      0.91      0.91      2852\n",
      "\n"
     ]
    }
   ],
   "source": [
    "print(sklearn.metrics.classification_report(value_changer(y_test),y_pred_lr))"
   ]
  },
  {
   "cell_type": "code",
   "execution_count": null,
   "id": "f38ccdfb",
   "metadata": {},
   "outputs": [],
   "source": []
  },
  {
   "cell_type": "code",
   "execution_count": 34,
   "id": "46be251c",
   "metadata": {},
   "outputs": [],
   "source": [
    "#criando x_train y_train x_test y_test para ovr\n",
    "values_ovr = [1,4,8]\n",
    "train_ovr = train_redu[train_redu.Label.isin(values_ovr)]\n",
    "test_ovr = test_redu[test_redu.Label.isin(values_ovr)]\n",
    "\n",
    "x_train_ovr, y_train_ovr = test_ovr.drop(columns=['Label']) , train_ovr['Label']\n",
    "y_train_ovr = y_train_ovr.values.reshape(-1,1)\n",
    "x_train = np.column_stack((np.ones((x_train_ovr.shape[0],1)),x_train_ovr))\n",
    "\n",
    "x_test_ovr, y_test_ovr = test_ovr.drop(columns=['Label']), test_ovr['Label']\n",
    "y_test_ovr = y_test_ovr.values.reshape(-1,1)\n",
    "x_test_ovr = np.column_stack((np.ones((x_test_ovr.shape[0],1)),x_test_ovr))"
   ]
  },
  {
   "cell_type": "code",
   "execution_count": null,
   "id": "287e9b58",
   "metadata": {},
   "outputs": [],
   "source": [
    "lista_pred_ovr = [None]*len(y_train_ovr)\n",
    "for i in range(len(y_pred)):\n",
    "    if(y_pred[i]==1):\n",
    "        lista_pred_ovr[i] == "
   ]
  },
  {
   "cell_type": "markdown",
   "id": "b355fedb",
   "metadata": {},
   "source": [
    "# Regressão logistica"
   ]
  },
  {
   "cell_type": "code",
   "execution_count": null,
   "id": "97bd7599",
   "metadata": {},
   "outputs": [],
   "source": []
  },
  {
   "cell_type": "markdown",
   "id": "872f3293",
   "metadata": {},
   "source": [
    "# fim da atualização"
   ]
  },
  {
   "cell_type": "code",
   "execution_count": 27,
   "id": "b445f51e",
   "metadata": {},
   "outputs": [],
   "source": [
    "pla = Perceptron(tol=0.1,max_iter=100)"
   ]
  },
  {
   "cell_type": "markdown",
   "id": "04123bc4",
   "metadata": {},
   "source": [
    "Atribuir o valor alvo \n",
    "𝑦 = +1 para a imagem com valor 𝑙𝑎𝑏𝑒𝑙 = 1 e 𝑦 = −1 para 𝑙𝑎𝑏𝑒𝑙 = 5; "
   ]
  },
  {
   "cell_type": "code",
   "execution_count": 28,
   "id": "34d1272a",
   "metadata": {},
   "outputs": [
    {
     "data": {
      "text/plain": [
       "Perceptron(max_iter=100, tol=0.1)"
      ]
     },
     "execution_count": 28,
     "metadata": {},
     "output_type": "execute_result"
    }
   ],
   "source": [
    "y_train = np.where(train1x5['Label']== 1,1,-1)\n",
    "y_test = np.where(test1x5['Label']== 1,1,-1)\n",
    "pla.fit(x_train, y_train.ravel())# x= caracteristicas(simetria,intensidade) y = label"
   ]
  },
  {
   "cell_type": "markdown",
   "id": "b9365f02",
   "metadata": {},
   "source": [
    "Criar um método de predição do dígito que retorne o valor 1 quando o \n",
    "classificador linear classificar a saída como 𝑦 = +1 e retorne o valor 5 quando 𝑦 =\n",
    "−1;"
   ]
  },
  {
   "cell_type": "code",
   "execution_count": 29,
   "id": "5e99b20a",
   "metadata": {},
   "outputs": [],
   "source": [
    "def pre1x5(x):\n",
    "    if (pla.predict([x]) == -1):\n",
    "        return int(5)\n",
    "    elif(pla.predict([x]) == 1):\n",
    "        return int(1)"
   ]
  },
  {
   "cell_type": "code",
   "execution_count": 30,
   "id": "4ee68b95",
   "metadata": {},
   "outputs": [
    {
     "data": {
      "text/plain": [
       "True"
      ]
     },
     "execution_count": 30,
     "metadata": {},
     "output_type": "execute_result"
    }
   ],
   "source": [
    "pre1x5(x_train[1]) == y_train[1]"
   ]
  },
  {
   "cell_type": "markdown",
   "id": "bd98894a",
   "metadata": {},
   "source": [
    "# Sklearning"
   ]
  },
  {
   "cell_type": "markdown",
   "id": "5e9c4aa6",
   "metadata": {},
   "source": [
    "## Perceptron"
   ]
  },
  {
   "cell_type": "code",
   "execution_count": 31,
   "id": "c2fbbef3",
   "metadata": {},
   "outputs": [],
   "source": [
    "pla = Perceptron(tol=0.1,max_iter=100)\n",
    "pla.fit(x_train, y_train)#x_train e y_test aqui ainda é 1x5\n",
    "y_predtest_pla = pla.predict(x_test)"
   ]
  },
  {
   "cell_type": "markdown",
   "id": "789d730b",
   "metadata": {},
   "source": [
    "### Matriz de confusão e relatório de eficácia Perceptron"
   ]
  },
  {
   "cell_type": "code",
   "execution_count": 32,
   "id": "30badb09",
   "metadata": {
    "scrolled": true
   },
   "outputs": [
    {
     "data": {
      "text/plain": [
       "array([[1305,   19],\n",
       "       [ 391, 1137]], dtype=int64)"
      ]
     },
     "metadata": {},
     "output_type": "display_data"
    }
   ],
   "source": [
    "y_predtest_pla = pla.predict(x_test)\n",
    "mc = confusion_matrix(y_test, y_predtest_pla)\n",
    "display(mc)"
   ]
  },
  {
   "cell_type": "code",
   "execution_count": 33,
   "id": "439bab7d",
   "metadata": {},
   "outputs": [
    {
     "name": "stdout",
     "output_type": "stream",
     "text": [
      "              precision    recall  f1-score   support\n",
      "\n",
      "          -1       0.77      0.99      0.86      1324\n",
      "           1       0.98      0.74      0.85      1528\n",
      "\n",
      "    accuracy                           0.86      2852\n",
      "   macro avg       0.88      0.86      0.86      2852\n",
      "weighted avg       0.88      0.86      0.86      2852\n",
      "\n"
     ]
    }
   ],
   "source": [
    "print(sklearn.metrics.classification_report(y_test,y_predtest_pla))"
   ]
  },
  {
   "cell_type": "markdown",
   "id": "3c3a33ed",
   "metadata": {},
   "source": [
    "## Linear regression sklearning\n"
   ]
  },
  {
   "cell_type": "code",
   "execution_count": 34,
   "id": "22687b5a",
   "metadata": {
    "scrolled": true
   },
   "outputs": [
    {
     "data": {
      "text/plain": [
       "LinearRegression()"
      ]
     },
     "execution_count": 34,
     "metadata": {},
     "output_type": "execute_result"
    }
   ],
   "source": [
    "lr2 = LinearRegression()\n",
    "lr2.fit(x_train, y_train)\n",
    "\n"
   ]
  },
  {
   "cell_type": "markdown",
   "id": "c6f24bb5",
   "metadata": {},
   "source": [
    "### Matriz de confusão e relatório de eficácia Regressão linear"
   ]
  },
  {
   "cell_type": "code",
   "execution_count": 35,
   "id": "a734331d",
   "metadata": {
    "scrolled": false
   },
   "outputs": [
    {
     "data": {
      "text/plain": [
       "array([[1155,  169],\n",
       "       [  92, 1436]], dtype=int64)"
      ]
     },
     "execution_count": 35,
     "metadata": {},
     "output_type": "execute_result"
    }
   ],
   "source": [
    "y_predtest_linear = np.sign(lr2.predict(x_test))\n",
    "confusion_matrix(y_test,y_predtest_linear)"
   ]
  },
  {
   "cell_type": "code",
   "execution_count": 36,
   "id": "9f4d08ed",
   "metadata": {},
   "outputs": [
    {
     "name": "stdout",
     "output_type": "stream",
     "text": [
      "              precision    recall  f1-score   support\n",
      "\n",
      "          -1       0.93      0.87      0.90      1324\n",
      "           1       0.89      0.94      0.92      1528\n",
      "\n",
      "    accuracy                           0.91      2852\n",
      "   macro avg       0.91      0.91      0.91      2852\n",
      "weighted avg       0.91      0.91      0.91      2852\n",
      "\n"
     ]
    }
   ],
   "source": [
    "print(sklearn.metrics.classification_report(y_test,y_predtest_linear))"
   ]
  },
  {
   "cell_type": "markdown",
   "id": "4b67ac2a",
   "metadata": {},
   "source": [
    "## Logistic Regression"
   ]
  },
  {
   "cell_type": "code",
   "execution_count": 37,
   "id": "8a2138ae",
   "metadata": {},
   "outputs": [
    {
     "data": {
      "text/plain": [
       "LogisticRegression()"
      ]
     },
     "execution_count": 37,
     "metadata": {},
     "output_type": "execute_result"
    }
   ],
   "source": [
    "lg = LogisticRegression()\n",
    "lg.fit(x_train,y_train)"
   ]
  },
  {
   "cell_type": "markdown",
   "id": "3b600c57",
   "metadata": {},
   "source": [
    "### Matriz de confusão e relatório de eficácia Regressão logistica"
   ]
  },
  {
   "cell_type": "code",
   "execution_count": 38,
   "id": "0c764174",
   "metadata": {
    "scrolled": true
   },
   "outputs": [
    {
     "data": {
      "text/plain": [
       "array([[1190,  134],\n",
       "       [ 118, 1410]], dtype=int64)"
      ]
     },
     "execution_count": 38,
     "metadata": {},
     "output_type": "execute_result"
    }
   ],
   "source": [
    "y_predtest_logistic = lg.predict(x_test)\n",
    "confusion_matrix(y_test,y_predtest_logistic)"
   ]
  },
  {
   "cell_type": "code",
   "execution_count": 39,
   "id": "edc7be7a",
   "metadata": {},
   "outputs": [
    {
     "name": "stdout",
     "output_type": "stream",
     "text": [
      "              precision    recall  f1-score   support\n",
      "\n",
      "          -1       0.91      0.90      0.90      1324\n",
      "           1       0.91      0.92      0.92      1528\n",
      "\n",
      "    accuracy                           0.91      2852\n",
      "   macro avg       0.91      0.91      0.91      2852\n",
      "weighted avg       0.91      0.91      0.91      2852\n",
      "\n"
     ]
    }
   ],
   "source": [
    "print(sklearn.metrics.classification_report(y_test,y_predtest_logistic))"
   ]
  },
  {
   "cell_type": "markdown",
   "id": "f82e5dc5",
   "metadata": {},
   "source": [
    "## 3.3. Classificador de dígitos completo \n"
   ]
  },
  {
   "cell_type": "code",
   "execution_count": 40,
   "id": "2c585ec1",
   "metadata": {},
   "outputs": [],
   "source": [
    "x_train, y_train = train_redu.drop(columns=['Label']), train_redu['Label']\n",
    "x_test, y_test = test_redu.drop(columns=['Label']), test_redu['Label']"
   ]
  },
  {
   "cell_type": "markdown",
   "id": "311634dd",
   "metadata": {},
   "source": [
    "### My Logistic Regression ovr"
   ]
  },
  {
   "cell_type": "code",
   "execution_count": null,
   "id": "346172f4",
   "metadata": {},
   "outputs": [],
   "source": []
  },
  {
   "cell_type": "markdown",
   "id": "2aa4f23b",
   "metadata": {},
   "source": [
    "### Logistic Regression 'One-vs-Rest'"
   ]
  },
  {
   "cell_type": "code",
   "execution_count": null,
   "id": "d017c455",
   "metadata": {},
   "outputs": [],
   "source": [
    "###end"
   ]
  },
  {
   "cell_type": "code",
   "execution_count": 41,
   "id": "9b3998ef",
   "metadata": {},
   "outputs": [
    {
     "data": {
      "text/plain": [
       "LogisticRegression(multi_class='ovr')"
      ]
     },
     "execution_count": 41,
     "metadata": {},
     "output_type": "execute_result"
    }
   ],
   "source": [
    "ovr_logistic = LogisticRegression(multi_class='ovr')\n",
    "ovr_logistic.fit(x_train, y_train)"
   ]
  },
  {
   "cell_type": "code",
   "execution_count": 42,
   "id": "3fdee866",
   "metadata": {},
   "outputs": [],
   "source": [
    "y_pred_logistic = ovr_logistic.predict(x_test)\n",
    "score_ovr_logistic = ovr_logistic.score(x_test,y_test)"
   ]
  },
  {
   "cell_type": "code",
   "execution_count": 43,
   "id": "23692b9a",
   "metadata": {},
   "outputs": [],
   "source": [
    "acuracia_ovr_logistic= sklearn.metrics.accuracy_score(y_test,y_pred_logistic)\n",
    "#precisao_ovr_logistic=sklearn.metrics.precision_score(y_test,y_pred_logistic)\n",
    "#recall_ovr_logistic=sklearn.metrics.recall_score(y_test,y_pred_logistic)\n",
    "#f1_ovr_logistic=sklearn.metrics.f1_score(y_test,y_pred_logistic)"
   ]
  },
  {
   "cell_type": "code",
   "execution_count": 44,
   "id": "bcd6b1ee",
   "metadata": {
    "scrolled": true
   },
   "outputs": [
    {
     "data": {
      "text/plain": [
       "array([[ 685,   58,  257,   38,    0,    0,    0,  155,  114,   79],\n",
       "       [   5, 1392,    1,    2,    0,    0,    0,   48,   12,   68],\n",
       "       [ 331,   53,  347,   52,    0,    0,    0,  425,   63,  105],\n",
       "       [ 341,   59,  301,   99,    0,    0,    0,  445,   86,  194],\n",
       "       [ 136,  175,  132,   64,    0,    0,    0,  514,   84,  287],\n",
       "       [ 207,  104,  169,   53,    0,    0,    0,  554,   70,  167],\n",
       "       [ 282,   81,  242,   80,    0,    0,    0,  414,   83,  238],\n",
       "       [  53,  100,  169,   48,    0,    0,    0, 1029,   16,  105],\n",
       "       [ 416,  113,  240,   59,    0,    0,    0,  236,  132,  177],\n",
       "       [ 161,  159,  129,   61,    0,    0,    0,  423,  112,  338]],\n",
       "      dtype=int64)"
      ]
     },
     "execution_count": 44,
     "metadata": {},
     "output_type": "execute_result"
    }
   ],
   "source": [
    "confusion_matrix(y_test,y_pred_logistic)"
   ]
  },
  {
   "cell_type": "code",
   "execution_count": 45,
   "id": "3111d6c2",
   "metadata": {},
   "outputs": [
    {
     "data": {
      "text/plain": [
       "0.28270190482884655"
      ]
     },
     "execution_count": 45,
     "metadata": {},
     "output_type": "execute_result"
    }
   ],
   "source": [
    "acuracia_ovr_logistic"
   ]
  },
  {
   "cell_type": "code",
   "execution_count": 46,
   "id": "93bf3675",
   "metadata": {},
   "outputs": [],
   "source": [
    "#como diferenciar falso positivos de negativo em uma matriz 10x10?"
   ]
  },
  {
   "cell_type": "markdown",
   "id": "07fb57a4",
   "metadata": {},
   "source": [
    "### Linear Regression 'One-vs-Rest'"
   ]
  },
  {
   "cell_type": "code",
   "execution_count": 47,
   "id": "8c66b458",
   "metadata": {},
   "outputs": [
    {
     "data": {
      "text/plain": [
       "OneVsRestClassifier(estimator=LinearRegression())"
      ]
     },
     "execution_count": 47,
     "metadata": {},
     "output_type": "execute_result"
    }
   ],
   "source": [
    "linear_model = LinearRegression()\n",
    "ovr_linear = OneVsRestClassifier(linear_model)\n",
    "ovr_linear.fit(x_train,y_train)"
   ]
  },
  {
   "cell_type": "code",
   "execution_count": 48,
   "id": "f2135903",
   "metadata": {},
   "outputs": [
    {
     "data": {
      "text/plain": [
       "array([[ 794,  241,  181,    0,    0,    0,    0,  170,    0,    0],\n",
       "       [   8, 1508,    2,    0,    0,    0,    0,   10,    0,    0],\n",
       "       [ 452,  272,  246,    0,    0,    0,    0,  406,    0,    0],\n",
       "       [ 493,  393,  206,    0,    0,    0,    0,  433,    0,    0],\n",
       "       [ 225,  673,   96,    0,    0,    0,    0,  398,    0,    0],\n",
       "       [ 294,  448,  127,    0,    0,    0,    0,  455,    0,    0],\n",
       "       [ 430,  441,  172,    0,    0,    0,    0,  377,    0,    0],\n",
       "       [ 102,  468,  129,    0,    0,    0,    0,  821,    0,    0],\n",
       "       [ 540,  429,  167,    0,    0,    0,    0,  237,    0,    0],\n",
       "       [ 263,  728,   92,    0,    0,    0,    0,  300,    0,    0]],\n",
       "      dtype=int64)"
      ]
     },
     "execution_count": 48,
     "metadata": {},
     "output_type": "execute_result"
    }
   ],
   "source": [
    "y_pred_linear = ovr_linear.predict(x_test)\n",
    "confusion_matrix(y_test,y_pred_linear)"
   ]
  },
  {
   "cell_type": "code",
   "execution_count": 49,
   "id": "b40c4fc0",
   "metadata": {},
   "outputs": [
    {
     "data": {
      "text/plain": [
       "0.23680326140437197"
      ]
     },
     "execution_count": 49,
     "metadata": {},
     "output_type": "execute_result"
    }
   ],
   "source": [
    "ovr_linear.score(x_test,y_test)"
   ]
  },
  {
   "cell_type": "markdown",
   "id": "0304b476",
   "metadata": {},
   "source": [
    "### Perceptron 'One-vs-Rest'"
   ]
  },
  {
   "cell_type": "code",
   "execution_count": 50,
   "id": "921bade1",
   "metadata": {},
   "outputs": [
    {
     "data": {
      "text/plain": [
       "OneVsRestClassifier(estimator=Perceptron())"
      ]
     },
     "execution_count": 50,
     "metadata": {},
     "output_type": "execute_result"
    }
   ],
   "source": [
    "pla_model = Perceptron()\n",
    "ovr_pla = OneVsRestClassifier(pla_model)\n",
    "ovr_pla.fit(x_train,y_train)"
   ]
  },
  {
   "cell_type": "code",
   "execution_count": 51,
   "id": "ebfd9563",
   "metadata": {},
   "outputs": [
    {
     "data": {
      "text/plain": [
       "array([[   0,   84,    0,    0,    0,  225,    0,    0, 1077,    0],\n",
       "       [   0, 1478,    0,    0,    0,   15,    0,    0,   35,    0],\n",
       "       [   0,  162,    0,    0,    0,  478,    0,    0,  736,    0],\n",
       "       [   0,  248,    0,    0,    0,  439,    0,    0,  838,    0],\n",
       "       [   0,  482,    0,    0,    0,  421,    0,    0,  489,    0],\n",
       "       [   0,  301,    0,    0,    0,  505,    0,    0,  518,    0],\n",
       "       [   0,  292,    0,    0,    0,  406,    0,    0,  722,    0],\n",
       "       [   0,  378,    0,    0,    0,  887,    0,    0,  255,    0],\n",
       "       [   0,  209,    0,    0,    0,  264,    0,    0,  900,    0],\n",
       "       [   0,  501,    0,    0,    0,  315,    0,    0,  567,    0]],\n",
       "      dtype=int64)"
      ]
     },
     "execution_count": 51,
     "metadata": {},
     "output_type": "execute_result"
    }
   ],
   "source": [
    "y_pred_pla = ovr_pla.predict(x_test)\n",
    "confusion_matrix(y_test,y_pred_pla)"
   ]
  },
  {
   "cell_type": "code",
   "execution_count": 52,
   "id": "628252dc",
   "metadata": {},
   "outputs": [
    {
     "data": {
      "text/plain": [
       "0.20264286216349195"
      ]
     },
     "execution_count": 52,
     "metadata": {},
     "output_type": "execute_result"
    }
   ],
   "source": [
    "ovr_pla.score(x_test,y_test)"
   ]
  }
 ],
 "metadata": {
  "kernelspec": {
   "display_name": "Python 3 (ipykernel)",
   "language": "python",
   "name": "python3"
  },
  "language_info": {
   "codemirror_mode": {
    "name": "ipython",
    "version": 3
   },
   "file_extension": ".py",
   "mimetype": "text/x-python",
   "name": "python",
   "nbconvert_exporter": "python",
   "pygments_lexer": "ipython3",
   "version": "3.9.7"
  }
 },
 "nbformat": 4,
 "nbformat_minor": 5
}
