{
 "cells": [
  {
   "cell_type": "markdown",
   "id": "498f45b3",
   "metadata": {},
   "source": [
    "# 3. Descrição das atividades \n",
    "Implementar três classificadores de dígitos contidos no dataset MNIST, utilizando os três \n",
    "modelos lineares de Aprendizagem de Máquina (AM) estudados: Perceptron, Regressão \n",
    "Linear e Regressão Logística. Detalhes da implementação estão descritas a seguir."
   ]
  },
  {
   "cell_type": "markdown",
   "id": "f14241a4",
   "metadata": {},
   "source": [
    "## 3.1. Redução da dimensão das amostras \n"
   ]
  },
  {
   "cell_type": "code",
   "execution_count": 1,
   "id": "a7c879e4",
   "metadata": {},
   "outputs": [],
   "source": [
    "import pandas as pd\n",
    "import numpy as np\n",
    "import matplotlib.pyplot as plt\n",
    "from matplotlib.colors import ListedColormap\n",
    "from sklearn.linear_model import Perceptron\n",
    "from sklearn.linear_model import LogisticRegression\n",
    "from sklearn.linear_model import LinearRegression\n",
    "from sklearn.multiclass import OneVsRestClassifier\n",
    "from sklearn.metrics import confusion_matrix\n",
    "import sklearn\n",
    "import random"
   ]
  },
  {
   "cell_type": "code",
   "execution_count": 2,
   "id": "ef2b2000",
   "metadata": {},
   "outputs": [],
   "source": [
    "def read_instance(filepath):\n",
    "    data = pd.read_csv(filepath)\n",
    "    return(data)"
   ]
  },
  {
   "cell_type": "markdown",
   "id": "67550282",
   "metadata": {},
   "source": [
    "### Intensidade"
   ]
  },
  {
   "cell_type": "code",
   "execution_count": 3,
   "id": "e304d3af",
   "metadata": {},
   "outputs": [],
   "source": [
    "def intensidade(data):\n",
    "    intensidade = []\n",
    "    data = np.array(data)\n",
    "    for i in range(len(data)):\n",
    "        intensidade.append(sum(data[i])/255)#somatorio da linha divido por 255\n",
    "    return intensidade"
   ]
  },
  {
   "cell_type": "markdown",
   "id": "df05150a",
   "metadata": {},
   "source": [
    "### Simetria"
   ]
  },
  {
   "cell_type": "code",
   "execution_count": 4,
   "id": "5bdf1914",
   "metadata": {},
   "outputs": [],
   "source": [
    "#mudança pra velocidade foi apenas fazer com np array\n",
    "def simetria(data):\n",
    "    list_simetria = []\n",
    "    data = np.array(data)\n",
    "    for k in range(len(data)):#pular linha\n",
    "        soma_line_horizontal = 0\n",
    "        soma_line_vertical = 0\n",
    "        tamanho = len(data[k])\n",
    "        \n",
    "        for i in range(28):#vertical\n",
    "            for j in range(14):#entre pixels das metades  \n",
    "                img_inicial = data[k][28*i+j]\n",
    "                img_final = data[k][28*i+(27-j)]\n",
    "                soma_line_vertical += abs(img_inicial - img_final)\n",
    "        \n",
    "        for i in range(tamanho-1,int(tamanho/2),-1):#horizontal do fim até a metade iterando com -1\n",
    "            img_inicial = data[k][i]\n",
    "            img_final = data[k][abs(i-tamanho)]\n",
    "            soma_line_horizontal += abs(img_inicial - img_final)\n",
    "            \n",
    "        soma = (soma_line_vertical+soma_line_horizontal)/2\n",
    "        list_simetria.append(soma/255)\n",
    "    \n",
    "    return list_simetria"
   ]
  },
  {
   "cell_type": "markdown",
   "id": "5979e731",
   "metadata": {},
   "source": [
    "### Train_redu.csv Teste_redu.csv"
   ]
  },
  {
   "cell_type": "code",
   "execution_count": 5,
   "id": "cb8d8ea9",
   "metadata": {},
   "outputs": [],
   "source": [
    "def reduced(filepath):#reduzir um arquivo usando simetria e intensidade\n",
    "    data =  read_instance(filepath)\n",
    "    label = data['label']\n",
    "    data = data.drop(columns=['Unnamed: 0'])\n",
    "    data = data.drop(columns=['label'])\n",
    "    intensidade_data = intensidade(data)\n",
    "    simetria_data = simetria(data)\n",
    "    redu_data = pd.DataFrame({'Label':label,'intensidade': intensidade_data,'simetria': simetria_data})\n",
    "    return redu_data"
   ]
  },
  {
   "cell_type": "code",
   "execution_count": 6,
   "id": "8c1dd30f",
   "metadata": {},
   "outputs": [],
   "source": [
    "#recebe arquivo csv reduz e tranforma em csv novamente \n",
    "train = reduced(\"train.csv\")\n",
    "train.to_csv(\"train_redu.csv\")\n",
    "test = reduced(\"test.csv\")\n",
    "test.to_csv(\"test_redu.csv\")\n"
   ]
  },
  {
   "cell_type": "code",
   "execution_count": 7,
   "id": "22b5a614",
   "metadata": {},
   "outputs": [],
   "source": [
    "train_redu = read_instance(\"train_redu.csv\")\n",
    "train_redu = train_redu.drop(columns=[\"Unnamed: 0\"])"
   ]
  },
  {
   "cell_type": "code",
   "execution_count": 8,
   "id": "bf141409",
   "metadata": {},
   "outputs": [],
   "source": [
    "test_redu = read_instance(\"test_redu.csv\")\n",
    "test_redu = test_redu.drop(columns=[\"Unnamed: 0\"])"
   ]
  },
  {
   "cell_type": "markdown",
   "id": "2ed6e3de",
   "metadata": {},
   "source": [
    ">Realizar um filtro nos dados dos arquivos train_redu.csv e test_redu.csv, deixando apenas as imagens com valores 1 ou 5 na coluna label, construindo as instâncias  train1x5 e test1x5;"
   ]
  },
  {
   "cell_type": "markdown",
   "id": "607a39a9",
   "metadata": {},
   "source": [
    "## Classificação dos dígitos A x B"
   ]
  },
  {
   "cell_type": "markdown",
   "id": "aea975ea",
   "metadata": {},
   "source": [
    "### Realizar um filtro AxB"
   ]
  },
  {
   "cell_type": "code",
   "execution_count": 9,
   "id": "3d2de72b",
   "metadata": {},
   "outputs": [],
   "source": [
    "#atualizado"
   ]
  },
  {
   "cell_type": "code",
   "execution_count": 10,
   "id": "78afe087",
   "metadata": {},
   "outputs": [],
   "source": [
    "def data_x_y(train_redu,test_redu,primaria,secundaria):\n",
    "    values = [primaria,secundaria]\n",
    "\n",
    "    train = train_redu[train_redu.Label.isin(values)]\n",
    "    test = test_redu[test_redu.Label.isin(values)]\n",
    "\n",
    "    x_train, y_train = train.drop(columns=['Label']) , train['Label']\n",
    "    y_train = y_train.values.reshape(-1,1)\n",
    "    x_train = np.column_stack((np.ones((x_train.shape[0],1)),x_train,))\n",
    "\n",
    "\n",
    "    x_test, y_test = test.drop(columns=['Label']), test['Label']\n",
    "    y_test = y_test.values.reshape(-1,1)\n",
    "    x_test = np.column_stack((np.ones((x_test.shape[0],1)),x_test))\n",
    "    \n",
    "    return x_train,y_train,x_test,y_test"
   ]
  },
  {
   "cell_type": "code",
   "execution_count": 11,
   "id": "4f0c6892",
   "metadata": {},
   "outputs": [],
   "source": [
    "#variavel de controle\n",
    "primaria = 1\n",
    "secundaria = 2"
   ]
  },
  {
   "cell_type": "code",
   "execution_count": 12,
   "id": "3ed12afb",
   "metadata": {},
   "outputs": [],
   "source": [
    "x_train,y_train,x_test,y_test = data_x_y(train_redu,test_redu,primaria,secundaria)"
   ]
  },
  {
   "cell_type": "code",
   "execution_count": 13,
   "id": "5221c2fa",
   "metadata": {},
   "outputs": [
    {
     "data": {
      "text/plain": [
       "array([[1],\n",
       "       [1],\n",
       "       [1],\n",
       "       ...,\n",
       "       [2],\n",
       "       [1],\n",
       "       [1]], dtype=int64)"
      ]
     },
     "execution_count": 13,
     "metadata": {},
     "output_type": "execute_result"
    }
   ],
   "source": [
    "y_train"
   ]
  },
  {
   "cell_type": "markdown",
   "id": "ddbc7e5c",
   "metadata": {},
   "source": [
    "### Plotar os dados de train AxB"
   ]
  },
  {
   "cell_type": "code",
   "execution_count": 14,
   "id": "92516757",
   "metadata": {
    "scrolled": false
   },
   "outputs": [
    {
     "data": {
      "text/plain": [
       "Text(0, 0.5, 'simetria')"
      ]
     },
     "execution_count": 14,
     "metadata": {},
     "output_type": "execute_result"
    },
    {
     "data": {
      "image/png": "[encoded data removed]",
      "text/plain": [
       "<Figure size 1296x720 with 1 Axes>"
      ]
     },
     "metadata": {
      "needs_background": "light"
     },
     "output_type": "display_data"
    }
   ],
   "source": [
    "p1 = [secundaria]\n",
    "p2 = [primaria]\n",
    "x = train_redu[train_redu.Label.isin(p1)]\n",
    "#x = test_redu[train_redu.Label.isin(p1)]\n",
    "y = train_redu[train_redu.Label.isin(p2)]\n",
    "#y = test_redu[train_redu.Label.isin(p2)]\n",
    "#plot1x5(trainx5,trainx1)\n",
    "\n",
    "figure = plt.figure(figsize=(18,10))\n",
    "axis = figure.add_subplot(111)\n",
    "axis.scatter(x.values[:,1], x.values[:,2], color='red',marker='o',label = secundaria)\n",
    "axis.scatter(y.values[:,1], y.values[:,2], color='blue',marker='o',label = primaria)\n",
    "axis.legend(loc=\"best\")\n",
    "plt.xlabel('intensidade')\n",
    "plt.ylabel('simetria')"
   ]
  },
  {
   "cell_type": "markdown",
   "id": "6724ccf2",
   "metadata": {},
   "source": [
    "# Começo da atualização"
   ]
  },
  {
   "cell_type": "markdown",
   "id": "9f616a0f",
   "metadata": {},
   "source": [
    "## Perceptron "
   ]
  },
  {
   "cell_type": "code",
   "execution_count": 15,
   "id": "a0299ef2",
   "metadata": {},
   "outputs": [],
   "source": [
    "class perceptron:\n",
    "    def __init__(self, n_iter, primaria,secundaria):\n",
    "        self.n_iter = n_iter\n",
    "        self.primaria = primaria\n",
    "        self.secundaria = secundaria\n",
    "    \n",
    "    def predict(self, x):\n",
    "       \n",
    "        net = np.dot(x, self.w_[1:] + self.w_[0])\n",
    "        return np.where(net>=0.0, self.secundaria, self.primaria)\n",
    "\n",
    "    \n",
    "    def fit(self, x, y):\n",
    "        self.w_ = np.zeros(1+x.shape[1])\n",
    "        self.errors_ = []\n",
    "        \n",
    "        for _ in range(self.n_iter):\n",
    "            errors = 0\n",
    "            for xi, target in zip(x, y):\n",
    "                update = (target - self.predict(xi))\n",
    "                self.w_[1:] += update * xi\n",
    "                self.w_[0] += update\n",
    "                errors += int(update != 0.0)\n",
    "            self.errors_.append(errors)\n",
    "            \n",
    "    def get_w_(self):\n",
    "        return self.w_\n",
    "    \n",
    "    "
   ]
  },
  {
   "cell_type": "code",
   "execution_count": 16,
   "id": "db10f13d",
   "metadata": {},
   "outputs": [],
   "source": [
    "ppn = perceptron( n_iter = 100, primaria = primaria, secundaria = secundaria)\n",
    "ppn.fit(x_train,y_train)\n",
    "y_pred = ppn.predict(x_test)"
   ]
  },
  {
   "cell_type": "code",
   "execution_count": 17,
   "id": "2b0f3881",
   "metadata": {
    "scrolled": false
   },
   "outputs": [
    {
     "name": "stdout",
     "output_type": "stream",
     "text": [
      "consufion matrix\n",
      " [[1373  155]\n",
      " [  49 1327]] \n",
      "---------------------------------------------------------------\n",
      "classification report\n",
      "               precision    recall  f1-score   support\n",
      "\n",
      "           1       0.97      0.90      0.93      1528\n",
      "           2       0.90      0.96      0.93      1376\n",
      "\n",
      "    accuracy                           0.93      2904\n",
      "   macro avg       0.93      0.93      0.93      2904\n",
      "weighted avg       0.93      0.93      0.93      2904\n",
      "\n"
     ]
    }
   ],
   "source": [
    "mc = confusion_matrix(y_test.ravel(), y_pred)\n",
    "print('consufion matrix\\n',mc,'\\n---------------------------------------------------------------')\n",
    "print('classification report\\n',sklearn.metrics.classification_report(y_test,y_pred,zero_division= 0))"
   ]
  },
  {
   "cell_type": "code",
   "execution_count": 18,
   "id": "9f8974e8",
   "metadata": {
    "scrolled": true
   },
   "outputs": [
    {
     "data": {
      "image/png": "[encoded data removed]",
      "text/plain": [
       "<Figure size 432x288 with 1 Axes>"
      ]
     },
     "metadata": {
      "needs_background": "light"
     },
     "output_type": "display_data"
    }
   ],
   "source": [
    "plt.plot(range(1,len(ppn.errors_)+1),ppn.errors_, marker = 'o', color='red')\n",
    "plt.xlabel('Epoca')\n",
    "plt.ylabel('Erro')\n",
    "plt.show()"
   ]
  },
  {
   "cell_type": "code",
   "execution_count": 19,
   "id": "97231e51",
   "metadata": {
    "scrolled": false
   },
   "outputs": [
    {
     "data": {
      "text/plain": [
       "<matplotlib.legend.Legend at 0x269b5511be0>"
      ]
     },
     "execution_count": 19,
     "metadata": {},
     "output_type": "execute_result"
    },
    {
     "data": {
      "image/png": "[encoded data removed]",
      "text/plain": [
       "<Figure size 1440x720 with 1 Axes>"
      ]
     },
     "metadata": {
      "needs_background": "light"
     },
     "output_type": "display_data"
    }
   ],
   "source": [
    "data = pd.DataFrame(np.column_stack((x_test,y_test)), columns=['x0','x1','x2','class'])\n",
    "\n",
    "classes = data['class'].unique()\n",
    "w = ppn.w_[1:] + ppn.w_[0]\n",
    "figure = plt.figure(figsize=(20,10))\n",
    "axis = figure.add_subplot(111)\n",
    "\n",
    "for classe in classes:\n",
    "    valores =  data[data['class'] == classe].values\n",
    "    y = valores[:,1]\n",
    "    z = valores[:,2]\n",
    "    axis.scatter(y,z, label=classe)\n",
    "\n",
    "x_new = np.linspace(20,270,1000)\n",
    "\n",
    "plt.plot(x_new, (-w[0] - w[1]*x_new)/w[2])\n",
    "    \n",
    "axis.legend()\n"
   ]
  },
  {
   "cell_type": "markdown",
   "id": "70d8c224",
   "metadata": {},
   "source": [
    "## Regressão Linear"
   ]
  },
  {
   "cell_type": "code",
   "execution_count": 20,
   "id": "58fcc292",
   "metadata": {},
   "outputs": [],
   "source": [
    "class LinearRegression_2:#correta\n",
    "    def fit(self, x_train, y_train):\n",
    "        x = np.array(list(map(lambda i: [1, i[1], i[2]], x_train)))\n",
    "\n",
    "\n",
    "        x =  np.array(x)\n",
    "        y =  np.array(y_train)\n",
    "        xTx = np.dot(x.transpose(), x)\n",
    "        inverse = np.linalg.inv(xTx)\n",
    "        self.w = np.dot(np.dot( inverse, x.transpose()), y)\n",
    "\n",
    "    def predict(self, x_test):\n",
    "\n",
    "        x = np.array(list(map(lambda i: [1, i[1], i[2]], x_test)))\n",
    "\n",
    "        return np.sign([np.dot(xn,self.w) for xn in x])\n",
    "\n",
    "    def get_w(self):\n",
    "        return self.w"
   ]
  },
  {
   "cell_type": "code",
   "execution_count": 21,
   "id": "a9e885f8",
   "metadata": {},
   "outputs": [],
   "source": [
    "def value_changer(y_train):\n",
    "    new_y_train = np.where(y_train == 1,1,-1)\n",
    "    return new_y_train.reshape(-1,1)"
   ]
  },
  {
   "cell_type": "code",
   "execution_count": 22,
   "id": "cbfc4f3b",
   "metadata": {},
   "outputs": [],
   "source": [
    "new_y_train = value_changer(y_train)# trocando os numeros por menos -1 e 1"
   ]
  },
  {
   "cell_type": "code",
   "execution_count": 23,
   "id": "a27061ce",
   "metadata": {
    "scrolled": true
   },
   "outputs": [],
   "source": [
    "lr = LinearRegression_2()\n",
    "lr.fit(x_train,new_y_train)\n",
    "y_pred_lr = lr.predict(x_test)"
   ]
  },
  {
   "cell_type": "code",
   "execution_count": 24,
   "id": "4c93116b",
   "metadata": {
    "scrolled": true
   },
   "outputs": [
    {
     "data": {
      "text/plain": [
       "array([[1239,  137],\n",
       "       [  58, 1470]], dtype=int64)"
      ]
     },
     "metadata": {},
     "output_type": "display_data"
    }
   ],
   "source": [
    "mc = confusion_matrix(value_changer(y_test), y_pred_lr.ravel())\n",
    "display(mc)"
   ]
  },
  {
   "cell_type": "code",
   "execution_count": 25,
   "id": "148f0e1f",
   "metadata": {
    "scrolled": true
   },
   "outputs": [
    {
     "name": "stdout",
     "output_type": "stream",
     "text": [
      "              precision    recall  f1-score   support\n",
      "\n",
      "          -1       0.96      0.90      0.93      1376\n",
      "           1       0.91      0.96      0.94      1528\n",
      "\n",
      "    accuracy                           0.93      2904\n",
      "   macro avg       0.94      0.93      0.93      2904\n",
      "weighted avg       0.93      0.93      0.93      2904\n",
      "\n"
     ]
    }
   ],
   "source": [
    "print(sklearn.metrics.classification_report(value_changer(y_test),y_pred_lr))"
   ]
  },
  {
   "cell_type": "code",
   "execution_count": 26,
   "id": "f38ccdfb",
   "metadata": {},
   "outputs": [],
   "source": [
    "data = pd.DataFrame(np.column_stack((x_test,y_test)), columns=['x0','x1','x2','class'])"
   ]
  },
  {
   "cell_type": "code",
   "execution_count": 27,
   "id": "e1975236",
   "metadata": {},
   "outputs": [
    {
     "data": {
      "text/html": [
       "<div>\n",
       "<style scoped>\n",
       "    .dataframe tbody tr th:only-of-type {\n",
       "        vertical-align: middle;\n",
       "    }\n",
       "\n",
       "    .dataframe tbody tr th {\n",
       "        vertical-align: top;\n",
       "    }\n",
       "\n",
       "    .dataframe thead th {\n",
       "        text-align: right;\n",
       "    }\n",
       "</style>\n",
       "<table border=\"1\" class=\"dataframe\">\n",
       "  <thead>\n",
       "    <tr style=\"text-align: right;\">\n",
       "      <th></th>\n",
       "      <th>x0</th>\n",
       "      <th>x1</th>\n",
       "      <th>x2</th>\n",
       "      <th>class</th>\n",
       "    </tr>\n",
       "  </thead>\n",
       "  <tbody>\n",
       "    <tr>\n",
       "      <th>0</th>\n",
       "      <td>1.0</td>\n",
       "      <td>34.839216</td>\n",
       "      <td>26.164706</td>\n",
       "      <td>1.0</td>\n",
       "    </tr>\n",
       "    <tr>\n",
       "      <th>1</th>\n",
       "      <td>1.0</td>\n",
       "      <td>161.956863</td>\n",
       "      <td>54.611765</td>\n",
       "      <td>2.0</td>\n",
       "    </tr>\n",
       "    <tr>\n",
       "      <th>2</th>\n",
       "      <td>1.0</td>\n",
       "      <td>104.435294</td>\n",
       "      <td>72.835294</td>\n",
       "      <td>2.0</td>\n",
       "    </tr>\n",
       "    <tr>\n",
       "      <th>3</th>\n",
       "      <td>1.0</td>\n",
       "      <td>51.639216</td>\n",
       "      <td>25.713725</td>\n",
       "      <td>1.0</td>\n",
       "    </tr>\n",
       "    <tr>\n",
       "      <th>4</th>\n",
       "      <td>1.0</td>\n",
       "      <td>51.674510</td>\n",
       "      <td>25.596078</td>\n",
       "      <td>1.0</td>\n",
       "    </tr>\n",
       "    <tr>\n",
       "      <th>...</th>\n",
       "      <td>...</td>\n",
       "      <td>...</td>\n",
       "      <td>...</td>\n",
       "      <td>...</td>\n",
       "    </tr>\n",
       "    <tr>\n",
       "      <th>2899</th>\n",
       "      <td>1.0</td>\n",
       "      <td>43.007843</td>\n",
       "      <td>31.949020</td>\n",
       "      <td>1.0</td>\n",
       "    </tr>\n",
       "    <tr>\n",
       "      <th>2900</th>\n",
       "      <td>1.0</td>\n",
       "      <td>40.090196</td>\n",
       "      <td>15.262745</td>\n",
       "      <td>1.0</td>\n",
       "    </tr>\n",
       "    <tr>\n",
       "      <th>2901</th>\n",
       "      <td>1.0</td>\n",
       "      <td>114.039216</td>\n",
       "      <td>72.254902</td>\n",
       "      <td>2.0</td>\n",
       "    </tr>\n",
       "    <tr>\n",
       "      <th>2902</th>\n",
       "      <td>1.0</td>\n",
       "      <td>84.019608</td>\n",
       "      <td>33.050980</td>\n",
       "      <td>2.0</td>\n",
       "    </tr>\n",
       "    <tr>\n",
       "      <th>2903</th>\n",
       "      <td>1.0</td>\n",
       "      <td>109.486275</td>\n",
       "      <td>51.050980</td>\n",
       "      <td>2.0</td>\n",
       "    </tr>\n",
       "  </tbody>\n",
       "</table>\n",
       "<p>2904 rows × 4 columns</p>\n",
       "</div>"
      ],
      "text/plain": [
       "       x0          x1         x2  class\n",
       "0     1.0   34.839216  26.164706    1.0\n",
       "1     1.0  161.956863  54.611765    2.0\n",
       "2     1.0  104.435294  72.835294    2.0\n",
       "3     1.0   51.639216  25.713725    1.0\n",
       "4     1.0   51.674510  25.596078    1.0\n",
       "...   ...         ...        ...    ...\n",
       "2899  1.0   43.007843  31.949020    1.0\n",
       "2900  1.0   40.090196  15.262745    1.0\n",
       "2901  1.0  114.039216  72.254902    2.0\n",
       "2902  1.0   84.019608  33.050980    2.0\n",
       "2903  1.0  109.486275  51.050980    2.0\n",
       "\n",
       "[2904 rows x 4 columns]"
      ]
     },
     "execution_count": 27,
     "metadata": {},
     "output_type": "execute_result"
    }
   ],
   "source": [
    "data"
   ]
  },
  {
   "cell_type": "code",
   "execution_count": 28,
   "id": "06778b87",
   "metadata": {},
   "outputs": [
    {
     "data": {
      "text/plain": [
       "<matplotlib.legend.Legend at 0x269b6011cd0>"
      ]
     },
     "execution_count": 28,
     "metadata": {},
     "output_type": "execute_result"
    },
    {
     "data": {
      "image/png": "[encoded data removed]",
      "text/plain": [
       "<Figure size 1296x720 with 1 Axes>"
      ]
     },
     "metadata": {
      "needs_background": "light"
     },
     "output_type": "display_data"
    }
   ],
   "source": [
    "classes = data['class'].unique()\n",
    "\n",
    "figure = plt.figure(figsize=(18,10))\n",
    "axis = figure.add_subplot(111)\n",
    "\n",
    "for classe in classes:\n",
    "    valores =  data[data['class'] == classe].values\n",
    "    y = valores[:,1]\n",
    "    z = valores[:,2]\n",
    "    axis.scatter(y,z, label=classe)\n",
    "\n",
    "x_new = np.linspace(0,270,1000)\n",
    "\n",
    "plt.plot(x_new, (-lr.get_w()[0] - lr.get_w()[1]*x_new)/lr.get_w()[2])\n",
    "    \n",
    "    \n",
    "axis.legend()"
   ]
  },
  {
   "cell_type": "markdown",
   "id": "8cc9bf0a",
   "metadata": {},
   "source": [
    "## OVR sem sklearning"
   ]
  },
  {
   "cell_type": "code",
   "execution_count": 29,
   "id": "b5f33ea0",
   "metadata": {},
   "outputs": [],
   "source": [
    "def data_x_y_z(train_redu,test_redu,primaria,secundaria,terciaria):\n",
    "    values = [primaria,secundaria,terciaria]\n",
    "\n",
    "    train = train_redu[train_redu.Label.isin(values)]\n",
    "    test = test_redu[test_redu.Label.isin(values)]\n",
    "\n",
    "    x_train, y_train = train.drop(columns=['Label']) , train['Label']\n",
    "    y_train = y_train.values.reshape(-1,1)\n",
    "    x_train = np.column_stack((np.ones((x_train.shape[0],1)),x_train,))\n",
    "\n",
    "\n",
    "    x_test, y_test = test.drop(columns=['Label']), test['Label']\n",
    "    y_test = y_test.values.reshape(-1,1)\n",
    "    x_test = np.column_stack((np.ones((x_test.shape[0],1)),x_test))\n",
    "    \n",
    "    return x_train,y_train,x_test,y_test"
   ]
  },
  {
   "cell_type": "code",
   "execution_count": 30,
   "id": "4e2c49a6",
   "metadata": {},
   "outputs": [],
   "source": [
    "\n",
    "#separe os numeros em hipoteses 1 2 e 3\n",
    "#a primaria sempre sera 1 e a secundaria 10\n",
    "#crie a lista de previsão tripla\n",
    "h1 = 1\n",
    "h2 = 2\n",
    "h3 = 3\n",
    "\n",
    "x_train_ovr ,y_train_ovr ,x_test_ovr ,y_test_ovr = data_x_y_z(train_redu,test_redu,h1,h2,h3)\n",
    "\n",
    "y_train_ovr_h1 = np.where(y_train_ovr == h1,h1,10)\n",
    "y_train_ovr_h2 = np.where(y_train_ovr == h2,h2,10)\n",
    "\n",
    "#y_train_ovr_h3 = np.where(y_train_ovr == h3,h3,10)\n",
    "\n",
    "lista_pred = [None]*len(y_test_ovr)"
   ]
  },
  {
   "cell_type": "code",
   "execution_count": 31,
   "id": "3268fee2",
   "metadata": {},
   "outputs": [],
   "source": [
    "#treine com 1vs10 onde 1 é h1 e 10 é (h2,h3)"
   ]
  },
  {
   "cell_type": "code",
   "execution_count": 32,
   "id": "d0a93c96",
   "metadata": {},
   "outputs": [],
   "source": [
    "y_train_ovr_h1 = np.where(y_train_ovr == h1,h1,10)\n",
    "y_train_ovr_h2 = np.where(y_train_ovr == h2,h2,10)"
   ]
  },
  {
   "cell_type": "code",
   "execution_count": null,
   "id": "f73a48a1",
   "metadata": {},
   "outputs": [],
   "source": []
  },
  {
   "cell_type": "code",
   "execution_count": 33,
   "id": "bccb06ef",
   "metadata": {},
   "outputs": [],
   "source": [
    "ppn = perceptron( n_iter = 10, primaria = h1, secundaria = 10)#10\n",
    "ppn.fit(x_train_ovr,y_train_ovr_h1)\n",
    "\n",
    "y_pred = ppn.predict(x_test_ovr)\n",
    "#hipotese 1\n",
    "for i in range(len(y_pred)):\n",
    "    if(y_pred[i] == h1):\n",
    "        lista_pred[i] = h1"
   ]
  },
  {
   "cell_type": "code",
   "execution_count": 34,
   "id": "743c404c",
   "metadata": {},
   "outputs": [],
   "source": [
    "#treine com 1vs10 onde 1 é h2 e 10 é (h1,h3)"
   ]
  },
  {
   "cell_type": "code",
   "execution_count": 35,
   "id": "37ce47fe",
   "metadata": {},
   "outputs": [],
   "source": [
    "ppn = perceptron( n_iter = 10, primaria = h2, secundaria = 10)#29\n",
    "ppn.fit(x_train_ovr,y_train_ovr_h2)\n",
    "#aqui ele está sempre classificando como h2\n",
    "y_pred = ppn.predict(x_test_ovr)\n",
    "#hipotese 2\n",
    "for i in range(len(y_pred)):\n",
    "    if(y_pred[i] == h2 and lista_pred[i] == None):\n",
    "        lista_pred[i] = h2\n",
    "    elif(lista_pred[i] == None):\n",
    "        lista_pred[i] = h3"
   ]
  },
  {
   "cell_type": "code",
   "execution_count": 36,
   "id": "6708916e",
   "metadata": {},
   "outputs": [
    {
     "name": "stdout",
     "output_type": "stream",
     "text": [
      "consufion matrix\n",
      " [[1498   11   19]\n",
      " [ 306  969  101]\n",
      " [ 428  964  133]] \n",
      "---------------------------------------------------------------\n",
      "classification report\n",
      "               precision    recall  f1-score   support\n",
      "\n",
      "           1       0.67      0.98      0.80      1528\n",
      "           2       0.50      0.70      0.58      1376\n",
      "           3       0.53      0.09      0.15      1525\n",
      "\n",
      "    accuracy                           0.59      4429\n",
      "   macro avg       0.57      0.59      0.51      4429\n",
      "weighted avg       0.57      0.59      0.51      4429\n",
      "\n"
     ]
    }
   ],
   "source": [
    "mc = confusion_matrix(y_test_ovr, lista_pred)\n",
    "print('consufion matrix\\n',mc,'\\n---------------------------------------------------------------')\n",
    "print('classification report\\n',sklearn.metrics.classification_report(y_test_ovr,lista_pred,zero_division= 0))"
   ]
  },
  {
   "cell_type": "markdown",
   "id": "872f3293",
   "metadata": {},
   "source": [
    "# fim da atualização"
   ]
  },
  {
   "cell_type": "code",
   "execution_count": 37,
   "id": "b445f51e",
   "metadata": {},
   "outputs": [],
   "source": [
    "x_train,y_train,x_test,y_test = data_x_y(train_redu,test_redu,1,5)\n",
    "pla = Perceptron(tol=0.1,max_iter=100)"
   ]
  },
  {
   "cell_type": "markdown",
   "id": "04123bc4",
   "metadata": {},
   "source": [
    "Atribuir o valor alvo \n",
    "𝑦 = +1 para a imagem com valor 𝑙𝑎𝑏𝑒𝑙 = 1 e 𝑦 = −1 para 𝑙𝑎𝑏𝑒𝑙 = 5; "
   ]
  },
  {
   "cell_type": "code",
   "execution_count": 38,
   "id": "34d1272a",
   "metadata": {},
   "outputs": [
    {
     "data": {
      "text/plain": [
       "Perceptron(max_iter=100, tol=0.1)"
      ]
     },
     "execution_count": 38,
     "metadata": {},
     "output_type": "execute_result"
    }
   ],
   "source": [
    "\n",
    "pla.fit(x_train, y_train.ravel())# x= caracteristicas(simetria,intensidade) y = label"
   ]
  },
  {
   "cell_type": "markdown",
   "id": "b9365f02",
   "metadata": {},
   "source": [
    "Criar um método de predição do dígito que retorne o valor 1 quando o \n",
    "classificador linear classificar a saída como 𝑦 = +1 e retorne o valor 5 quando 𝑦 =\n",
    "−1;"
   ]
  },
  {
   "cell_type": "code",
   "execution_count": 39,
   "id": "5e99b20a",
   "metadata": {},
   "outputs": [],
   "source": [
    "def pre1x5(x):\n",
    "    if (pla.predict([x]) == -1):\n",
    "        return int(5)\n",
    "    elif(pla.predict([x]) == 1):\n",
    "        return int(1)"
   ]
  },
  {
   "cell_type": "code",
   "execution_count": 40,
   "id": "4ee68b95",
   "metadata": {},
   "outputs": [
    {
     "data": {
      "text/plain": [
       "array([ True])"
      ]
     },
     "execution_count": 40,
     "metadata": {},
     "output_type": "execute_result"
    }
   ],
   "source": [
    "pre1x5(x_train[1]) == y_train[1]"
   ]
  },
  {
   "cell_type": "markdown",
   "id": "bd98894a",
   "metadata": {},
   "source": [
    "# Sklearning"
   ]
  },
  {
   "cell_type": "markdown",
   "id": "5e9c4aa6",
   "metadata": {},
   "source": [
    "## Perceptron"
   ]
  },
  {
   "cell_type": "code",
   "execution_count": 41,
   "id": "c2fbbef3",
   "metadata": {},
   "outputs": [],
   "source": [
    "pla = Perceptron(tol=0.1,max_iter=100)\n",
    "pla.fit(x_train, y_train.ravel())\n",
    "y_predtest_pla = pla.predict(x_test)"
   ]
  },
  {
   "cell_type": "markdown",
   "id": "789d730b",
   "metadata": {},
   "source": [
    "### Matriz de confusão e relatório de eficácia Perceptron"
   ]
  },
  {
   "cell_type": "code",
   "execution_count": 42,
   "id": "30badb09",
   "metadata": {
    "scrolled": true
   },
   "outputs": [
    {
     "data": {
      "text/plain": [
       "array([[1137,  391],\n",
       "       [  19, 1305]], dtype=int64)"
      ]
     },
     "metadata": {},
     "output_type": "display_data"
    },
    {
     "name": "stdout",
     "output_type": "stream",
     "text": [
      "              precision    recall  f1-score   support\n",
      "\n",
      "           1       0.98      0.74      0.85      1528\n",
      "           5       0.77      0.99      0.86      1324\n",
      "\n",
      "    accuracy                           0.86      2852\n",
      "   macro avg       0.88      0.86      0.86      2852\n",
      "weighted avg       0.88      0.86      0.86      2852\n",
      "\n"
     ]
    }
   ],
   "source": [
    "mc = confusion_matrix(y_test, y_predtest_pla)\n",
    "display(mc)\n",
    "print(sklearn.metrics.classification_report(y_test,y_predtest_pla))"
   ]
  },
  {
   "cell_type": "markdown",
   "id": "3c3a33ed",
   "metadata": {},
   "source": [
    "## Linear regression sklearning\n"
   ]
  },
  {
   "cell_type": "code",
   "execution_count": 43,
   "id": "22687b5a",
   "metadata": {
    "scrolled": true
   },
   "outputs": [
    {
     "data": {
      "text/plain": [
       "LinearRegression()"
      ]
     },
     "execution_count": 43,
     "metadata": {},
     "output_type": "execute_result"
    }
   ],
   "source": [
    "y_train_lr = np.where(y_train ==1,1,-1)\n",
    "y_test_lr = np.where(y_test ==1,1,-1)\n",
    "lr2 = LinearRegression()\n",
    "lr2.fit(x_train, y_train_lr)"
   ]
  },
  {
   "cell_type": "markdown",
   "id": "c6f24bb5",
   "metadata": {},
   "source": [
    "### Matriz de confusão e relatório de eficácia Regressão linear"
   ]
  },
  {
   "cell_type": "code",
   "execution_count": 44,
   "id": "a734331d",
   "metadata": {
    "scrolled": false
   },
   "outputs": [
    {
     "data": {
      "text/plain": [
       "array([[1155,  169],\n",
       "       [  92, 1436]], dtype=int64)"
      ]
     },
     "execution_count": 44,
     "metadata": {},
     "output_type": "execute_result"
    }
   ],
   "source": [
    "y_predtest_linear = np.sign(lr2.predict(x_test))\n",
    "confusion_matrix(y_test_lr,y_predtest_linear)"
   ]
  },
  {
   "cell_type": "code",
   "execution_count": 45,
   "id": "9f4d08ed",
   "metadata": {},
   "outputs": [
    {
     "name": "stdout",
     "output_type": "stream",
     "text": [
      "              precision    recall  f1-score   support\n",
      "\n",
      "          -1       0.93      0.87      0.90      1324\n",
      "           1       0.89      0.94      0.92      1528\n",
      "\n",
      "    accuracy                           0.91      2852\n",
      "   macro avg       0.91      0.91      0.91      2852\n",
      "weighted avg       0.91      0.91      0.91      2852\n",
      "\n"
     ]
    }
   ],
   "source": [
    "print(sklearn.metrics.classification_report(y_test_lr,y_predtest_linear))"
   ]
  },
  {
   "cell_type": "markdown",
   "id": "4b67ac2a",
   "metadata": {},
   "source": [
    "## Logistic Regression"
   ]
  },
  {
   "cell_type": "code",
   "execution_count": 46,
   "id": "8a2138ae",
   "metadata": {},
   "outputs": [
    {
     "data": {
      "text/plain": [
       "LogisticRegression()"
      ]
     },
     "execution_count": 46,
     "metadata": {},
     "output_type": "execute_result"
    }
   ],
   "source": [
    "lg = LogisticRegression()\n",
    "lg.fit(x_train,y_train.ravel())"
   ]
  },
  {
   "cell_type": "markdown",
   "id": "3b600c57",
   "metadata": {},
   "source": [
    "### Matriz de confusão e relatório de eficácia Regressão logistica"
   ]
  },
  {
   "cell_type": "code",
   "execution_count": 47,
   "id": "0c764174",
   "metadata": {
    "scrolled": true
   },
   "outputs": [
    {
     "data": {
      "text/plain": [
       "array([[1410,  118],\n",
       "       [ 134, 1190]], dtype=int64)"
      ]
     },
     "execution_count": 47,
     "metadata": {},
     "output_type": "execute_result"
    }
   ],
   "source": [
    "y_predtest_logistic = lg.predict(x_test)\n",
    "confusion_matrix(y_test,y_predtest_logistic)"
   ]
  },
  {
   "cell_type": "code",
   "execution_count": 48,
   "id": "edc7be7a",
   "metadata": {},
   "outputs": [
    {
     "name": "stdout",
     "output_type": "stream",
     "text": [
      "              precision    recall  f1-score   support\n",
      "\n",
      "           1       0.91      0.92      0.92      1528\n",
      "           5       0.91      0.90      0.90      1324\n",
      "\n",
      "    accuracy                           0.91      2852\n",
      "   macro avg       0.91      0.91      0.91      2852\n",
      "weighted avg       0.91      0.91      0.91      2852\n",
      "\n"
     ]
    }
   ],
   "source": [
    "print(sklearn.metrics.classification_report(y_test,y_predtest_logistic))"
   ]
  },
  {
   "cell_type": "markdown",
   "id": "f82e5dc5",
   "metadata": {},
   "source": [
    "## 3.3. Classificador de dígitos completo \n"
   ]
  },
  {
   "cell_type": "code",
   "execution_count": 49,
   "id": "2c585ec1",
   "metadata": {},
   "outputs": [],
   "source": [
    "x_train, y_train = train_redu.drop(columns=['Label']), train_redu['Label']\n",
    "x_test, y_test = test_redu.drop(columns=['Label']), test_redu['Label']"
   ]
  },
  {
   "cell_type": "markdown",
   "id": "2aa4f23b",
   "metadata": {},
   "source": [
    "### Logistic Regression 'One-vs-Rest'"
   ]
  },
  {
   "cell_type": "code",
   "execution_count": 50,
   "id": "9b3998ef",
   "metadata": {},
   "outputs": [
    {
     "data": {
      "text/plain": [
       "LogisticRegression(multi_class='ovr')"
      ]
     },
     "execution_count": 50,
     "metadata": {},
     "output_type": "execute_result"
    }
   ],
   "source": [
    "ovr_logistic = LogisticRegression(multi_class='ovr')\n",
    "ovr_logistic.fit(x_train, y_train)"
   ]
  },
  {
   "cell_type": "code",
   "execution_count": 51,
   "id": "3fdee866",
   "metadata": {},
   "outputs": [],
   "source": [
    "y_pred_logistic = ovr_logistic.predict(x_test)\n",
    "score_ovr_logistic = ovr_logistic.score(x_test,y_test)"
   ]
  },
  {
   "cell_type": "code",
   "execution_count": 52,
   "id": "23692b9a",
   "metadata": {},
   "outputs": [],
   "source": [
    "acuracia_ovr_logistic= sklearn.metrics.accuracy_score(y_test,y_pred_logistic)\n",
    "#precisao_ovr_logistic=sklearn.metrics.precision_score(y_test,y_pred_logistic)\n",
    "#recall_ovr_logistic=sklearn.metrics.recall_score(y_test,y_pred_logistic)\n",
    "#f1_ovr_logistic=sklearn.metrics.f1_score(y_test,y_pred_logistic)"
   ]
  },
  {
   "cell_type": "code",
   "execution_count": 53,
   "id": "bcd6b1ee",
   "metadata": {
    "scrolled": true
   },
   "outputs": [
    {
     "data": {
      "text/plain": [
       "array([[ 685,   58,  257,   38,    0,    0,    0,  155,  114,   79],\n",
       "       [   5, 1392,    1,    2,    0,    0,    0,   48,   12,   68],\n",
       "       [ 331,   53,  347,   52,    0,    0,    0,  425,   63,  105],\n",
       "       [ 341,   59,  301,   99,    0,    0,    0,  445,   86,  194],\n",
       "       [ 136,  175,  132,   64,    0,    0,    0,  514,   84,  287],\n",
       "       [ 207,  104,  169,   53,    0,    0,    0,  554,   70,  167],\n",
       "       [ 282,   81,  242,   80,    0,    0,    0,  414,   83,  238],\n",
       "       [  53,  100,  169,   48,    0,    0,    0, 1029,   16,  105],\n",
       "       [ 416,  113,  240,   59,    0,    0,    0,  236,  132,  177],\n",
       "       [ 161,  159,  129,   61,    0,    0,    0,  423,  112,  338]],\n",
       "      dtype=int64)"
      ]
     },
     "execution_count": 53,
     "metadata": {},
     "output_type": "execute_result"
    }
   ],
   "source": [
    "confusion_matrix(y_test,y_pred_logistic)"
   ]
  },
  {
   "cell_type": "code",
   "execution_count": 54,
   "id": "3111d6c2",
   "metadata": {},
   "outputs": [
    {
     "data": {
      "text/plain": [
       "0.28270190482884655"
      ]
     },
     "execution_count": 54,
     "metadata": {},
     "output_type": "execute_result"
    }
   ],
   "source": [
    "acuracia_ovr_logistic"
   ]
  },
  {
   "cell_type": "code",
   "execution_count": 55,
   "id": "93bf3675",
   "metadata": {},
   "outputs": [],
   "source": [
    "#como diferenciar falso positivos de negativo em uma matriz 10x10?"
   ]
  },
  {
   "cell_type": "markdown",
   "id": "07fb57a4",
   "metadata": {},
   "source": [
    "### Linear Regression 'One-vs-Rest'"
   ]
  },
  {
   "cell_type": "code",
   "execution_count": 56,
   "id": "8c66b458",
   "metadata": {},
   "outputs": [
    {
     "data": {
      "text/plain": [
       "OneVsRestClassifier(estimator=LinearRegression())"
      ]
     },
     "execution_count": 56,
     "metadata": {},
     "output_type": "execute_result"
    }
   ],
   "source": [
    "linear_model = LinearRegression()\n",
    "ovr_linear = OneVsRestClassifier(linear_model)\n",
    "ovr_linear.fit(x_train,y_train)"
   ]
  },
  {
   "cell_type": "code",
   "execution_count": 57,
   "id": "f2135903",
   "metadata": {},
   "outputs": [
    {
     "data": {
      "text/plain": [
       "array([[ 794,  241,  181,    0,    0,    0,    0,  170,    0,    0],\n",
       "       [   8, 1508,    2,    0,    0,    0,    0,   10,    0,    0],\n",
       "       [ 452,  272,  246,    0,    0,    0,    0,  406,    0,    0],\n",
       "       [ 493,  393,  206,    0,    0,    0,    0,  433,    0,    0],\n",
       "       [ 225,  673,   96,    0,    0,    0,    0,  398,    0,    0],\n",
       "       [ 294,  448,  127,    0,    0,    0,    0,  455,    0,    0],\n",
       "       [ 430,  441,  172,    0,    0,    0,    0,  377,    0,    0],\n",
       "       [ 102,  468,  129,    0,    0,    0,    0,  821,    0,    0],\n",
       "       [ 540,  429,  167,    0,    0,    0,    0,  237,    0,    0],\n",
       "       [ 263,  728,   92,    0,    0,    0,    0,  300,    0,    0]],\n",
       "      dtype=int64)"
      ]
     },
     "execution_count": 57,
     "metadata": {},
     "output_type": "execute_result"
    }
   ],
   "source": [
    "y_pred_linear = ovr_linear.predict(x_test)\n",
    "confusion_matrix(y_test,y_pred_linear)"
   ]
  },
  {
   "cell_type": "code",
   "execution_count": 58,
   "id": "b40c4fc0",
   "metadata": {},
   "outputs": [
    {
     "data": {
      "text/plain": [
       "0.23680326140437197"
      ]
     },
     "execution_count": 58,
     "metadata": {},
     "output_type": "execute_result"
    }
   ],
   "source": [
    "ovr_linear.score(x_test,y_test)"
   ]
  },
  {
   "cell_type": "markdown",
   "id": "0304b476",
   "metadata": {},
   "source": [
    "### Perceptron 'One-vs-Rest'"
   ]
  },
  {
   "cell_type": "code",
   "execution_count": 59,
   "id": "921bade1",
   "metadata": {},
   "outputs": [
    {
     "data": {
      "text/plain": [
       "OneVsRestClassifier(estimator=Perceptron())"
      ]
     },
     "execution_count": 59,
     "metadata": {},
     "output_type": "execute_result"
    }
   ],
   "source": [
    "pla_model = Perceptron()\n",
    "ovr_pla = OneVsRestClassifier(pla_model)\n",
    "ovr_pla.fit(x_train,y_train)"
   ]
  },
  {
   "cell_type": "code",
   "execution_count": 60,
   "id": "ebfd9563",
   "metadata": {},
   "outputs": [
    {
     "data": {
      "text/plain": [
       "array([[   0,   84,    0,    0,    0,  225,    0,    0, 1077,    0],\n",
       "       [   0, 1478,    0,    0,    0,   15,    0,    0,   35,    0],\n",
       "       [   0,  162,    0,    0,    0,  478,    0,    0,  736,    0],\n",
       "       [   0,  248,    0,    0,    0,  439,    0,    0,  838,    0],\n",
       "       [   0,  482,    0,    0,    0,  421,    0,    0,  489,    0],\n",
       "       [   0,  301,    0,    0,    0,  505,    0,    0,  518,    0],\n",
       "       [   0,  292,    0,    0,    0,  406,    0,    0,  722,    0],\n",
       "       [   0,  378,    0,    0,    0,  887,    0,    0,  255,    0],\n",
       "       [   0,  209,    0,    0,    0,  264,    0,    0,  900,    0],\n",
       "       [   0,  501,    0,    0,    0,  315,    0,    0,  567,    0]],\n",
       "      dtype=int64)"
      ]
     },
     "execution_count": 60,
     "metadata": {},
     "output_type": "execute_result"
    }
   ],
   "source": [
    "y_pred_pla = ovr_pla.predict(x_test)\n",
    "confusion_matrix(y_test,y_pred_pla)"
   ]
  },
  {
   "cell_type": "code",
   "execution_count": 61,
   "id": "628252dc",
   "metadata": {},
   "outputs": [
    {
     "data": {
      "text/plain": [
       "0.20264286216349195"
      ]
     },
     "execution_count": 61,
     "metadata": {},
     "output_type": "execute_result"
    }
   ],
   "source": [
    "ovr_pla.score(x_test,y_test)"
   ]
  }
 ],
 "metadata": {
  "kernelspec": {
   "display_name": "Python 3 (ipykernel)",
   "language": "python",
   "name": "python3"
  },
  "language_info": {
   "codemirror_mode": {
    "name": "ipython",
    "version": 3
   },
   "file_extension": ".py",
   "mimetype": "text/x-python",
   "name": "python",
   "nbconvert_exporter": "python",
   "pygments_lexer": "ipython3",
   "version": "3.9.7"
  }
 },
 "nbformat": 4,
 "nbformat_minor": 5
}
