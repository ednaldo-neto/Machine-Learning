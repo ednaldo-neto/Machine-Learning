{
 "cells": [
  {
   "cell_type": "markdown",
   "id": "498f45b3",
   "metadata": {},
   "source": [
    "# 3. Descrição das atividades \n",
    "Implementar três classificadores de dígitos contidos no dataset MNIST, utilizando os três \n",
    "modelos lineares de Aprendizagem de Máquina (AM) estudados: Perceptron, Regressão \n",
    "Linear e Regressão Logística. Detalhes da implementação estão descritas a seguir."
   ]
  },
  {
   "cell_type": "markdown",
   "id": "f14241a4",
   "metadata": {},
   "source": [
    "## 3.1. Redução da dimensão das amostras \n"
   ]
  },
  {
   "cell_type": "code",
   "execution_count": 1,
   "id": "a7c879e4",
   "metadata": {},
   "outputs": [],
   "source": [
    "import pandas as pd\n",
    "import numpy as np\n",
    "import matplotlib.pyplot as plt\n",
    "from matplotlib.colors import ListedColormap\n",
    "from sklearn.linear_model import Perceptron\n",
    "from sklearn.linear_model import LogisticRegression\n",
    "from sklearn.linear_model import LinearRegression\n",
    "from sklearn.multiclass import OneVsRestClassifier\n",
    "from sklearn.metrics import confusion_matrix\n",
    "import sklearn"
   ]
  },
  {
   "cell_type": "code",
   "execution_count": 2,
   "id": "ef2b2000",
   "metadata": {},
   "outputs": [],
   "source": [
    "def read_instance(filepath):\n",
    "    data = pd.read_csv(filepath)\n",
    "    return(data)"
   ]
  },
  {
   "cell_type": "markdown",
   "id": "67550282",
   "metadata": {},
   "source": [
    "### Intensidade"
   ]
  },
  {
   "cell_type": "code",
   "execution_count": 3,
   "id": "e304d3af",
   "metadata": {},
   "outputs": [],
   "source": [
    "def intensidade(data):\n",
    "    intensidade = []\n",
    "    for i in range(len(data)):\n",
    "        intensidade.append(sum(data.loc[i])/255)#somatorio da linha divido por 255\n",
    "    return intensidade\n",
    "        "
   ]
  },
  {
   "cell_type": "markdown",
   "id": "df05150a",
   "metadata": {},
   "source": [
    "### Simetria"
   ]
  },
  {
   "cell_type": "code",
   "execution_count": 6,
   "id": "5bdf1914",
   "metadata": {},
   "outputs": [],
   "source": [
    "def simetria(data):\n",
    "    list_simetria = []\n",
    "    for k in range(len(data)):#pular linha\n",
    "        soma_line_horizontal = 0\n",
    "        soma_line_vertical = 0\n",
    "        tamanho = len(data.loc[k])\n",
    "        \n",
    "        for i in range(28):#vertical\n",
    "            for j in range(14):#entre pixels das metades  \n",
    "                img_inicial = data.loc[k][28*i+j]\n",
    "                img_final = data.loc[k][28*i+(27-j)]\n",
    "                soma_line_vertical += abs(img_inicial - img_final)\n",
    "        \n",
    "        for i in range(tamanho-1,int(tamanho/2),-1):#horizontal do fim até a metade iterando com -1\n",
    "            img_inicial = data.loc[k][i]\n",
    "            img_final = data.loc[k][abs(i-tamanho)]\n",
    "            soma_line_horizontal += abs(img_inicial - img_final)\n",
    "            \n",
    "        soma = (soma_line_vertical+soma_line_horizontal)/2\n",
    "        list_simetria.append(soma/255)\n",
    "    \n",
    "    return list_simetria"
   ]
  },
  {
   "cell_type": "markdown",
   "id": "5979e731",
   "metadata": {},
   "source": [
    "### Train_redu.csv Teste_redu.csv"
   ]
  },
  {
   "cell_type": "code",
   "execution_count": 7,
   "id": "cb8d8ea9",
   "metadata": {},
   "outputs": [],
   "source": [
    "def reduced(filepath):#reduzir um arquivo usando simetria e intensidade\n",
    "    data =  read_instance(filepath)\n",
    "    label = data['label']\n",
    "    data = data.drop(columns=['Unnamed: 0'])\n",
    "    data = data.drop(columns=['label'])\n",
    "    intensidade_data = intensidade(data)\n",
    "    simetria_data = simetria(data)\n",
    "    redu_data = pd.DataFrame({'Label':label,'intensidade': intensidade_data,'simetria': simetria_data})\n",
    "    return redu_data"
   ]
  },
  {
   "cell_type": "code",
   "execution_count": 8,
   "id": "8c1dd30f",
   "metadata": {},
   "outputs": [
    {
     "data": {
      "text/plain": [
       "'train = reduced(\"train.csv\")\\ntrain.to_csv(\"train_redu.csv\")\\ntest = reduced(\"test.csv\")\\ntest.to_csv(\"test_redu.csv\")'"
      ]
     },
     "execution_count": 8,
     "metadata": {},
     "output_type": "execute_result"
    }
   ],
   "source": [
    "#recebe arquivo csv reduz e tranforma em csv novamente \n",
    "'''train = reduced(\"train.csv\")\n",
    "train.to_csv(\"train_redu.csv\")\n",
    "test = reduced(\"test.csv\")\n",
    "test.to_csv(\"test_redu.csv\")'''\n"
   ]
  },
  {
   "cell_type": "code",
   "execution_count": 9,
   "id": "22b5a614",
   "metadata": {},
   "outputs": [],
   "source": [
    "train_redu = read_instance(\"train_redu.csv\")\n",
    "train_redu = train_redu.drop(columns=[\"Unnamed: 0\"])\n",
    "train_redu = train_redu.drop(columns=[\"Unnamed: 0.1\"])"
   ]
  },
  {
   "cell_type": "code",
   "execution_count": 10,
   "id": "bf141409",
   "metadata": {},
   "outputs": [],
   "source": [
    "test_redu = read_instance(\"test_redu.csv\")\n",
    "test_redu = test_redu.drop(columns=[\"Unnamed: 0\"])\n",
    "test_redu = test_redu.drop(columns=[\"Unnamed: 0.1\"])"
   ]
  },
  {
   "cell_type": "markdown",
   "id": "2ed6e3de",
   "metadata": {},
   "source": [
    ">Realizar um filtro nos dados dos arquivos train_redu.csv e test_redu.csv, deixando apenas as imagens com valores 1 ou 5 na coluna label, construindo as instâncias  train1x5 e test1x5;"
   ]
  },
  {
   "cell_type": "markdown",
   "id": "607a39a9",
   "metadata": {},
   "source": [
    "## Classificação dos dígitos 1 x 5 "
   ]
  },
  {
   "cell_type": "markdown",
   "id": "aea975ea",
   "metadata": {},
   "source": [
    "### Realizar um filtro 1x5"
   ]
  },
  {
   "cell_type": "code",
   "execution_count": 11,
   "id": "51d76a0e",
   "metadata": {},
   "outputs": [],
   "source": [
    "values = [1,5]"
   ]
  },
  {
   "cell_type": "code",
   "execution_count": 12,
   "id": "3e197560",
   "metadata": {
    "scrolled": true
   },
   "outputs": [],
   "source": [
    "train1x5 = train_redu[train_redu.Label.isin(values)]\n",
    "test1x5 = test_redu[test_redu.Label.isin(values)]"
   ]
  },
  {
   "cell_type": "code",
   "execution_count": 13,
   "id": "5272ea07",
   "metadata": {
    "scrolled": true
   },
   "outputs": [],
   "source": [
    "x_train, y_train = train1x5.drop(columns=['Label']) , train1x5['Label']\n",
    "y_train = y_train.values.reshape(-1,1)\n",
    "x_train = np.column_stack((x_train,np.ones((x_train.shape[0],1))))"
   ]
  },
  {
   "cell_type": "code",
   "execution_count": 14,
   "id": "eee05fa5",
   "metadata": {},
   "outputs": [],
   "source": [
    "x_test, y_test = test1x5.drop(columns=['Label']), test1x5['Label']\n",
    "y_test = y_test.values.reshape(-1,1)\n",
    "x_test = np.column_stack((x_test,np.ones((x_test.shape[0],1))))"
   ]
  },
  {
   "cell_type": "markdown",
   "id": "ddbc7e5c",
   "metadata": {},
   "source": [
    "### Plotar os dados de train1x5"
   ]
  },
  {
   "cell_type": "code",
   "execution_count": 15,
   "id": "e784ff46",
   "metadata": {},
   "outputs": [],
   "source": [
    "def plot1x5(x,y):\n",
    "    \n",
    "    plt.scatter(x.values[:,1], x.values[:,2], color='red',marker='o',label = 5)\n",
    "    plt.scatter(y.values[:,1], y.values[:,2], color='blue',marker='x',label = 1)\n",
    "    plt.xlabel('intensidade')\n",
    "    plt.ylabel('simetria')\n",
    "    plt.legend(loc='upper left')\n",
    "    plt.show()"
   ]
  },
  {
   "cell_type": "code",
   "execution_count": 16,
   "id": "92516757",
   "metadata": {
    "scrolled": true
   },
   "outputs": [
    {
     "data": {
      "image/png": "[encoded data removed]",
      "text/plain": [
       "<Figure size 432x288 with 1 Axes>"
      ]
     },
     "metadata": {
      "needs_background": "light"
     },
     "output_type": "display_data"
    }
   ],
   "source": [
    "cinco = [5]\n",
    "um = [1]\n",
    "trainx5 = train_redu[train_redu.Label.isin(cinco)]\n",
    "#testx5 = test_redu[test_redu.Label.isin(cinco)]\n",
    "trainx1 = train_redu[train_redu.Label.isin(um)]\n",
    "#testx1 = test_redu[test_redu.Label.isin(um)]\n",
    "plot1x5(trainx5,trainx1)"
   ]
  },
  {
   "cell_type": "code",
   "execution_count": 18,
   "id": "b445f51e",
   "metadata": {},
   "outputs": [],
   "source": [
    "pla = Perceptron(tol=0.1,max_iter=100)"
   ]
  },
  {
   "cell_type": "markdown",
   "id": "04123bc4",
   "metadata": {},
   "source": [
    "Atribuir o valor alvo \n",
    "𝑦 = +1 para a imagem com valor 𝑙𝑎𝑏𝑒𝑙 = 1 e 𝑦 = −1 para 𝑙𝑎𝑏𝑒𝑙 = 5; "
   ]
  },
  {
   "cell_type": "code",
   "execution_count": 19,
   "id": "34d1272a",
   "metadata": {},
   "outputs": [
    {
     "data": {
      "text/plain": [
       "Perceptron(max_iter=100, tol=0.1)"
      ]
     },
     "execution_count": 19,
     "metadata": {},
     "output_type": "execute_result"
    }
   ],
   "source": [
    "y_train = np.where(train1x5['Label']== 1,1,-1)\n",
    "y_test = np.where(test1x5['Label']== 1,1,-1)\n",
    "pla.fit(x_train, y_train.ravel())# x= caracteristicas(simetria,intensidade) y = label"
   ]
  },
  {
   "cell_type": "markdown",
   "id": "b9365f02",
   "metadata": {},
   "source": [
    "Criar um método de predição do dígito que retorne o valor 1 quando o \n",
    "classificador linear classificar a saída como 𝑦 = +1 e retorne o valor 5 quando 𝑦 =\n",
    "−1;"
   ]
  },
  {
   "cell_type": "code",
   "execution_count": 20,
   "id": "5e99b20a",
   "metadata": {},
   "outputs": [],
   "source": [
    "def pre1x5(x):\n",
    "    if (pla.predict([x]) == -1):\n",
    "        return int(5)\n",
    "    elif(pla.predict([x]) == 1):\n",
    "        return int(1)"
   ]
  },
  {
   "cell_type": "code",
   "execution_count": 21,
   "id": "4ee68b95",
   "metadata": {},
   "outputs": [
    {
     "data": {
      "text/plain": [
       "True"
      ]
     },
     "execution_count": 21,
     "metadata": {},
     "output_type": "execute_result"
    }
   ],
   "source": [
    "pre1x5(x_train[1]) == y_train[1]"
   ]
  },
  {
   "cell_type": "markdown",
   "id": "5e9c4aa6",
   "metadata": {},
   "source": [
    "## Perceptron"
   ]
  },
  {
   "cell_type": "code",
   "execution_count": 22,
   "id": "c2fbbef3",
   "metadata": {},
   "outputs": [
    {
     "data": {
      "text/plain": [
       "0.8562412342215989"
      ]
     },
     "execution_count": 22,
     "metadata": {},
     "output_type": "execute_result"
    }
   ],
   "source": [
    "pla = Perceptron(tol=0.1,max_iter=100)\n",
    "pla.fit(x_train, y_train)#x_train e y_test aqui ainda é 1x5\n",
    "pla.score(x_test, y_test)"
   ]
  },
  {
   "cell_type": "markdown",
   "id": "789d730b",
   "metadata": {},
   "source": [
    "### Matriz de confusão e relatório de eficácia Perceptron"
   ]
  },
  {
   "cell_type": "code",
   "execution_count": 23,
   "id": "30badb09",
   "metadata": {},
   "outputs": [
    {
     "data": {
      "text/plain": [
       "array([[1305,   19],\n",
       "       [ 391, 1137]], dtype=int64)"
      ]
     },
     "metadata": {},
     "output_type": "display_data"
    }
   ],
   "source": [
    "y_predtest_pla = pla.predict(x_test)\n",
    "mc = confusion_matrix(y_test, y_predtest_pla)\n",
    "display(mc)"
   ]
  },
  {
   "cell_type": "code",
   "execution_count": 24,
   "id": "c79ee33d",
   "metadata": {},
   "outputs": [],
   "source": [
    "acuracia_pla= sklearn.metrics.accuracy_score(y_test, y_predtest_pla)\n",
    "precisao_pla=sklearn.metrics.precision_score(y_test, y_predtest_pla)\n",
    "recall_pla=sklearn.metrics.recall_score(y_test, y_predtest_pla)\n",
    "f1_pla=sklearn.metrics.f1_score(y_test, y_predtest_pla)"
   ]
  },
  {
   "cell_type": "code",
   "execution_count": 25,
   "id": "df63689e",
   "metadata": {},
   "outputs": [],
   "source": [
    "def imprime(a,p,r,f):\n",
    "    print(\"Acurácia = \",a,'\\nPrecisão = ',p,'\\nRecall = ',r,'\\nF1 Score = ',f)"
   ]
  },
  {
   "cell_type": "code",
   "execution_count": 26,
   "id": "2ef27415",
   "metadata": {},
   "outputs": [
    {
     "name": "stdout",
     "output_type": "stream",
     "text": [
      "Acurácia =  0.8562412342215989 \n",
      "Precisão =  0.9835640138408305 \n",
      "Recall =  0.7441099476439791 \n",
      "F1 Score =  0.8472429210134129\n"
     ]
    }
   ],
   "source": [
    "imprime(acuracia_pla,precisao_pla,recall_pla,f1_pla)"
   ]
  },
  {
   "cell_type": "markdown",
   "id": "3c3a33ed",
   "metadata": {},
   "source": [
    "## Linear regression \n"
   ]
  },
  {
   "cell_type": "code",
   "execution_count": 28,
   "id": "22687b5a",
   "metadata": {
    "scrolled": true
   },
   "outputs": [
    {
     "data": {
      "text/plain": [
       "0.6551016228573754"
      ]
     },
     "metadata": {},
     "output_type": "display_data"
    }
   ],
   "source": [
    "lr = LinearRegression()\n",
    "linear = lr.fit(x_train, y_train)\n",
    "display(linear.score(x_test, y_test))\n"
   ]
  },
  {
   "cell_type": "markdown",
   "id": "c6f24bb5",
   "metadata": {},
   "source": [
    "### Matriz de confusão e relatório de eficácia Regressão linear"
   ]
  },
  {
   "cell_type": "code",
   "execution_count": 29,
   "id": "a734331d",
   "metadata": {
    "scrolled": true
   },
   "outputs": [
    {
     "data": {
      "text/plain": [
       "array([[1155,  169],\n",
       "       [  92, 1436]], dtype=int64)"
      ]
     },
     "execution_count": 29,
     "metadata": {},
     "output_type": "execute_result"
    }
   ],
   "source": [
    "y_predtest_linear = np.sign(linear.predict(x_test))\n",
    "confusion_matrix(y_test,y_predtest_linear)"
   ]
  },
  {
   "cell_type": "code",
   "execution_count": 30,
   "id": "a75f9a16",
   "metadata": {},
   "outputs": [],
   "source": [
    "acuracia_linear= sklearn.metrics.accuracy_score(y_test, y_predtest_linear)\n",
    "precisao_linear=sklearn.metrics.precision_score(y_test, y_predtest_linear)\n",
    "recall_linear=sklearn.metrics.recall_score(y_test, y_predtest_linear)\n",
    "f1_linear=sklearn.metrics.f1_score(y_test, y_predtest_linear)"
   ]
  },
  {
   "cell_type": "code",
   "execution_count": 31,
   "id": "26f9d6a5",
   "metadata": {
    "scrolled": true
   },
   "outputs": [
    {
     "name": "stdout",
     "output_type": "stream",
     "text": [
      "Acurácia =  0.9084852734922861 \n",
      "Precisão =  0.8947040498442368 \n",
      "Recall =  0.9397905759162304 \n",
      "F1 Score =  0.916693265240983\n"
     ]
    }
   ],
   "source": [
    "imprime(acuracia_linear,precisao_linear,recall_linear,f1_linear)"
   ]
  },
  {
   "cell_type": "markdown",
   "id": "4b67ac2a",
   "metadata": {},
   "source": [
    "## Logistic Regression"
   ]
  },
  {
   "cell_type": "code",
   "execution_count": 32,
   "id": "8a2138ae",
   "metadata": {},
   "outputs": [
    {
     "data": {
      "text/plain": [
       "0.9116409537166901"
      ]
     },
     "execution_count": 32,
     "metadata": {},
     "output_type": "execute_result"
    }
   ],
   "source": [
    "lg = LogisticRegression()\n",
    "logistic = lg.fit(x_train,y_train)\n",
    "logistic.score(x_test, y_test)"
   ]
  },
  {
   "cell_type": "markdown",
   "id": "3b600c57",
   "metadata": {},
   "source": [
    "### Matriz de confusão e relatório de eficácia Regressão logistica"
   ]
  },
  {
   "cell_type": "code",
   "execution_count": 33,
   "id": "0c764174",
   "metadata": {},
   "outputs": [
    {
     "data": {
      "text/plain": [
       "array([[1190,  134],\n",
       "       [ 118, 1410]], dtype=int64)"
      ]
     },
     "execution_count": 33,
     "metadata": {},
     "output_type": "execute_result"
    }
   ],
   "source": [
    "y_predtest_logistic = logistic.predict(x_test)\n",
    "confusion_matrix(y_test,y_predtest_logistic)"
   ]
  },
  {
   "cell_type": "code",
   "execution_count": 34,
   "id": "55e44ecc",
   "metadata": {},
   "outputs": [],
   "source": [
    "acuracia_logistic= sklearn.metrics.accuracy_score(y_test,y_predtest_logistic)\n",
    "precisao_logistic=sklearn.metrics.precision_score(y_test,y_predtest_logistic)\n",
    "recall_logistic=sklearn.metrics.recall_score(y_test,y_predtest_logistic)\n",
    "f1_logistic=sklearn.metrics.f1_score(y_test,y_predtest_logistic)"
   ]
  },
  {
   "cell_type": "code",
   "execution_count": 35,
   "id": "679891b1",
   "metadata": {
    "scrolled": true
   },
   "outputs": [
    {
     "name": "stdout",
     "output_type": "stream",
     "text": [
      "Acurácia =  0.9116409537166901 \n",
      "Precisão =  0.9132124352331606 \n",
      "Recall =  0.9227748691099477 \n",
      "F1 Score =  0.91796875\n"
     ]
    }
   ],
   "source": [
    "imprime(acuracia_logistic,precisao_logistic,recall_logistic,f1_logistic)"
   ]
  },
  {
   "cell_type": "markdown",
   "id": "f82e5dc5",
   "metadata": {},
   "source": [
    "## 3.3. Classificador de dígitos completo \n"
   ]
  },
  {
   "cell_type": "code",
   "execution_count": 36,
   "id": "2c585ec1",
   "metadata": {},
   "outputs": [],
   "source": [
    "x_train, y_train = train_redu.drop(columns=['Label']), train_redu['Label']\n",
    "x_test, y_test = test_redu.drop(columns=['Label']), test_redu['Label']"
   ]
  },
  {
   "cell_type": "markdown",
   "id": "2aa4f23b",
   "metadata": {},
   "source": [
    "### Logistic Regression 'One-vs-Rest'"
   ]
  },
  {
   "cell_type": "code",
   "execution_count": 37,
   "id": "9b3998ef",
   "metadata": {},
   "outputs": [
    {
     "data": {
      "text/plain": [
       "LogisticRegression(multi_class='ovr')"
      ]
     },
     "execution_count": 37,
     "metadata": {},
     "output_type": "execute_result"
    }
   ],
   "source": [
    "ovr_logistic = LogisticRegression(multi_class='ovr')\n",
    "ovr_logistic.fit(x_train, y_train)"
   ]
  },
  {
   "cell_type": "code",
   "execution_count": 34,
   "id": "3fdee866",
   "metadata": {},
   "outputs": [],
   "source": [
    "y_pred_logistic = ovr_logistic.predict(x_test)\n",
    "score_ovr_logistic = ovr_logistic.score(x_test,y_test)"
   ]
  },
  {
   "cell_type": "code",
   "execution_count": 35,
   "id": "23692b9a",
   "metadata": {},
   "outputs": [],
   "source": [
    "acuracia_ovr_logistic= sklearn.metrics.accuracy_score(y_test,y_pred_logistic)\n",
    "#precisao_ovr_logistic=sklearn.metrics.precision_score(y_test,y_pred_logistic)\n",
    "#recall_ovr_logistic=sklearn.metrics.recall_score(y_test,y_pred_logistic)\n",
    "#f1_ovr_logistic=sklearn.metrics.f1_score(y_test,y_pred_logistic)"
   ]
  },
  {
   "cell_type": "code",
   "execution_count": 36,
   "id": "bcd6b1ee",
   "metadata": {
    "scrolled": true
   },
   "outputs": [
    {
     "data": {
      "text/plain": [
       "array([[ 685,   58,  257,   38,    0,    0,    0,  155,  114,   79],\n",
       "       [   5, 1392,    1,    2,    0,    0,    0,   48,   12,   68],\n",
       "       [ 331,   53,  347,   52,    0,    0,    0,  425,   63,  105],\n",
       "       [ 341,   59,  301,   99,    0,    0,    0,  445,   86,  194],\n",
       "       [ 136,  175,  132,   64,    0,    0,    0,  514,   84,  287],\n",
       "       [ 207,  104,  169,   53,    0,    0,    0,  554,   70,  167],\n",
       "       [ 282,   81,  242,   80,    0,    0,    0,  414,   83,  238],\n",
       "       [  53,  100,  169,   48,    0,    0,    0, 1029,   16,  105],\n",
       "       [ 416,  113,  240,   59,    0,    0,    0,  236,  132,  177],\n",
       "       [ 161,  159,  129,   61,    0,    0,    0,  423,  112,  338]],\n",
       "      dtype=int64)"
      ]
     },
     "execution_count": 36,
     "metadata": {},
     "output_type": "execute_result"
    }
   ],
   "source": [
    "confusion_matrix(y_test,y_pred_logistic)"
   ]
  },
  {
   "cell_type": "code",
   "execution_count": 37,
   "id": "3111d6c2",
   "metadata": {},
   "outputs": [
    {
     "data": {
      "text/plain": [
       "0.28270190482884655"
      ]
     },
     "execution_count": 37,
     "metadata": {},
     "output_type": "execute_result"
    }
   ],
   "source": [
    "acuracia_ovr_logistic"
   ]
  },
  {
   "cell_type": "code",
   "execution_count": 38,
   "id": "93bf3675",
   "metadata": {},
   "outputs": [],
   "source": [
    "#como diferenciar falso positivos de negativo em uma matriz 10x10?"
   ]
  },
  {
   "cell_type": "markdown",
   "id": "07fb57a4",
   "metadata": {},
   "source": [
    "### Linear Regression 'One-vs-Rest'"
   ]
  },
  {
   "cell_type": "code",
   "execution_count": 38,
   "id": "8c66b458",
   "metadata": {},
   "outputs": [
    {
     "data": {
      "text/plain": [
       "OneVsRestClassifier(estimator=LinearRegression())"
      ]
     },
     "execution_count": 38,
     "metadata": {},
     "output_type": "execute_result"
    }
   ],
   "source": [
    "linear_model = LinearRegression()\n",
    "ovr_linear = OneVsRestClassifier(linear_model)\n",
    "ovr_linear.fit(x_train,y_train)"
   ]
  },
  {
   "cell_type": "code",
   "execution_count": 39,
   "id": "f2135903",
   "metadata": {},
   "outputs": [
    {
     "data": {
      "text/plain": [
       "array([[ 794,  241,  181,    0,    0,    0,    0,  170,    0,    0],\n",
       "       [   8, 1508,    2,    0,    0,    0,    0,   10,    0,    0],\n",
       "       [ 452,  272,  246,    0,    0,    0,    0,  406,    0,    0],\n",
       "       [ 493,  393,  206,    0,    0,    0,    0,  433,    0,    0],\n",
       "       [ 225,  673,   96,    0,    0,    0,    0,  398,    0,    0],\n",
       "       [ 294,  448,  127,    0,    0,    0,    0,  455,    0,    0],\n",
       "       [ 430,  441,  172,    0,    0,    0,    0,  377,    0,    0],\n",
       "       [ 102,  468,  129,    0,    0,    0,    0,  821,    0,    0],\n",
       "       [ 540,  429,  167,    0,    0,    0,    0,  237,    0,    0],\n",
       "       [ 263,  728,   92,    0,    0,    0,    0,  300,    0,    0]],\n",
       "      dtype=int64)"
      ]
     },
     "execution_count": 39,
     "metadata": {},
     "output_type": "execute_result"
    }
   ],
   "source": [
    "y_pred_linear = ovr_linear.predict(x_test)\n",
    "confusion_matrix(y_test,y_pred_linear)"
   ]
  },
  {
   "cell_type": "code",
   "execution_count": 40,
   "id": "b40c4fc0",
   "metadata": {},
   "outputs": [
    {
     "data": {
      "text/plain": [
       "0.23680326140437197"
      ]
     },
     "execution_count": 40,
     "metadata": {},
     "output_type": "execute_result"
    }
   ],
   "source": [
    "ovr_linear.score(x_test,y_test)"
   ]
  },
  {
   "cell_type": "markdown",
   "id": "0304b476",
   "metadata": {},
   "source": [
    "### Perceptron 'One-vs-Rest'"
   ]
  },
  {
   "cell_type": "code",
   "execution_count": 42,
   "id": "921bade1",
   "metadata": {},
   "outputs": [
    {
     "data": {
      "text/plain": [
       "OneVsRestClassifier(estimator=Perceptron())"
      ]
     },
     "execution_count": 42,
     "metadata": {},
     "output_type": "execute_result"
    }
   ],
   "source": [
    "pla_model = Perceptron()\n",
    "ovr_pla = OneVsRestClassifier(pla_model)\n",
    "ovr_pla.fit(x_train,y_train)"
   ]
  },
  {
   "cell_type": "code",
   "execution_count": 43,
   "id": "ebfd9563",
   "metadata": {},
   "outputs": [
    {
     "data": {
      "text/plain": [
       "array([[   0,   84,    0,    0,    0,  225,    0,    0, 1077,    0],\n",
       "       [   0, 1478,    0,    0,    0,   15,    0,    0,   35,    0],\n",
       "       [   0,  162,    0,    0,    0,  478,    0,    0,  736,    0],\n",
       "       [   0,  248,    0,    0,    0,  439,    0,    0,  838,    0],\n",
       "       [   0,  482,    0,    0,    0,  421,    0,    0,  489,    0],\n",
       "       [   0,  301,    0,    0,    0,  505,    0,    0,  518,    0],\n",
       "       [   0,  292,    0,    0,    0,  406,    0,    0,  722,    0],\n",
       "       [   0,  378,    0,    0,    0,  887,    0,    0,  255,    0],\n",
       "       [   0,  209,    0,    0,    0,  264,    0,    0,  900,    0],\n",
       "       [   0,  501,    0,    0,    0,  315,    0,    0,  567,    0]],\n",
       "      dtype=int64)"
      ]
     },
     "execution_count": 43,
     "metadata": {},
     "output_type": "execute_result"
    }
   ],
   "source": [
    "y_pred_pla = ovr_pla.predict(x_test)\n",
    "confusion_matrix(y_test,y_pred_pla)"
   ]
  },
  {
   "cell_type": "code",
   "execution_count": 44,
   "id": "628252dc",
   "metadata": {},
   "outputs": [
    {
     "data": {
      "text/plain": [
       "0.20264286216349195"
      ]
     },
     "execution_count": 44,
     "metadata": {},
     "output_type": "execute_result"
    }
   ],
   "source": [
    "ovr_pla.score(x_test,y_test)"
   ]
  },
  {
   "cell_type": "code",
   "execution_count": null,
   "id": "e5cb0077",
   "metadata": {},
   "outputs": [],
   "source": []
  }
 ],
 "metadata": {
  "kernelspec": {
   "display_name": "Python 3 (ipykernel)",
   "language": "python",
   "name": "python3"
  },
  "language_info": {
   "codemirror_mode": {
    "name": "ipython",
    "version": 3
   },
   "file_extension": ".py",
   "mimetype": "text/x-python",
   "name": "python",
   "nbconvert_exporter": "python",
   "pygments_lexer": "ipython3",
   "version": "3.9.7"
  }
 },
 "nbformat": 4,
 "nbformat_minor": 5
}
